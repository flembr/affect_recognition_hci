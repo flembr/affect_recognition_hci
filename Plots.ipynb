{
 "cells": [
  {
   "cell_type": "code",
   "execution_count": null,
   "metadata": {},
   "outputs": [],
   "source": [
    "%load_ext autoreload\n",
    "%autoreload 2\n",
    "\n",
    "from recording import Recording\n",
    "from auxiliary import DataHandler\n",
    "\n",
    "import numpy as np\n",
    "import pandas as pd\n",
    "\n",
    "import librosa\n",
    "\n",
    "%matplotlib inline\n",
    "import matplotlib.pyplot as plt\n",
    "from matplotlib import ticker\n",
    "import seaborn as sns\n",
    "sns.set(font='serif',style='ticks',context='talk')"
   ]
  },
  {
   "cell_type": "code",
   "execution_count": null,
   "metadata": {},
   "outputs": [],
   "source": [
    "dh = DataHandler()"
   ]
  },
  {
   "cell_type": "markdown",
   "metadata": {},
   "source": [
    "# Visualize Spectral Features"
   ]
  },
  {
   "cell_type": "code",
   "execution_count": null,
   "metadata": {},
   "outputs": [],
   "source": [
    "rec = Recording('03a01Fa')\n",
    "\n",
    "t_start,t_stop,phoneme = [],[],[]\n",
    "for i,row in rec.df_tags.iterrows():\n",
    "    if row.phoneme != '':\n",
    "        t_start.append(row.t_start)\n",
    "        t_stop.append(row.t_stop)\n",
    "        phoneme.append(row.phoneme)\n",
    "    else:\n",
    "        t_stop[-1] = row.t_stop\n",
    "        \n",
    "df_tags = pd.DataFrame({\n",
    "    't_start': t_start,\n",
    "    't_stop': t_stop,\n",
    "    'phoneme': phoneme\n",
    "})\n",
    "\n",
    "features = np.vstack([rec.mfcc_cepstrum,rec.mfcc_delta1,rec.mfcc_delta2,rec.pitch_features(rec.raw_signal)])\n",
    "\n",
    "fig,ax = plt.subplots(figsize=(16,6),dpi=200)\n",
    "sns.heatmap(((features.T-np.mean(features,axis=1))/np.std(features,axis=1)).T,ax=ax)\n",
    "\n",
    "ax.set_yticks([10,30,50,60.5])\n",
    "ax.set_yticklabels(['mfcc','delta 1','delta 2','pitch'])\n",
    "minor_locator = ticker.AutoMinorLocator(2)\n",
    "ax.yaxis.set_minor_locator(minor_locator)\n",
    "\n",
    "ax.yaxis.set_ticks_position\n",
    "mid_points = np.array([(row.t_start+row.t_stop)/2 for _,row in df_tags.iterrows()])\n",
    "mid_points = mid_points*rec.mfcc_cepstrum.shape[1]/df_tags.t_stop.values[-1]\n",
    "x_tick_pos = df_tags.t_start.values*rec.mfcc_cepstrum.shape[1]/df_tags.t_stop.values[-1]\n",
    "\n",
    "ax.set_xticks(x_tick_pos)\n",
    "ax.set_xticklabels([])\n",
    "\n",
    "ax.xaxis.set_minor_locator(ticker.FixedLocator(mid_points))\n",
    "ax.xaxis.set_minor_formatter(ticker.FixedFormatter(df_tags.phoneme))\n",
    "\n",
    "ax.set_ylabel('Feature')\n",
    "for ticklabel in ax.get_ymajorticklabels():\n",
    "    ticklabel.set_rotation(0)\n",
    "for tick in ax.yaxis.get_majorticklines():\n",
    "    tick.set_visible(0)\n",
    "for tick in ax.xaxis.get_minorticklines():\n",
    "    tick.set_visible(0)\n",
    "for ticklabel in ax.get_xminorticklabels():\n",
    "    ticklabel.set_rotation(90)\n",
    "ax.yaxis.grid(which='minor')"
   ]
  },
  {
   "cell_type": "markdown",
   "metadata": {},
   "source": [
    "# Performance\n",
    "\n",
    "### Table"
   ]
  },
  {
   "cell_type": "code",
   "execution_count": null,
   "metadata": {},
   "outputs": [],
   "source": [
    "df_scores_1 = pd.read_csv('results/scores_1.csv',index_col=0)\n",
    "df_scores_2 = pd.read_csv('results/scores_2.csv',index_col=0)\n",
    "df_scores_3 = pd.read_csv('results/scores_3.csv',index_col=0)"
   ]
  },
  {
   "cell_type": "code",
   "execution_count": null,
   "metadata": {},
   "outputs": [],
   "source": [
    "for id in df_scores_1.index:\n",
    "    print('s%s & %.2f & %.2f & %.2f \\\\\\\\ \\\\hline'%(id,df_scores_1.mean(axis=1)[id],df_scores_2.mean(axis=1)[id],df_scores_3.mean(axis=1)[id]))"
   ]
  },
  {
   "cell_type": "code",
   "execution_count": null,
   "metadata": {},
   "outputs": [],
   "source": [
    "print(df_scores_1.values.mean(),df_scores_1.values.std())\n",
    "print(df_scores_2.values.mean(),df_scores_2.values.std())\n",
    "print(df_scores_3.values.mean(),df_scores_3.values.std())"
   ]
  },
  {
   "cell_type": "markdown",
   "metadata": {},
   "source": [
    "### Confusion matrices"
   ]
  },
  {
   "cell_type": "code",
   "execution_count": null,
   "metadata": {},
   "outputs": [],
   "source": [
    "import pickle, itertools\n",
    "with open('results/cms_1.pkl','rb') as f:\n",
    "    df_cms_1 = pd.DataFrame(pickle.load(f))\n",
    "with open('results/cms_2.pkl','rb') as f:\n",
    "    df_cms_2 = pd.DataFrame(pickle.load(f))\n",
    "with open('results/cms_3.pkl','rb') as f:\n",
    "    df_cms_3 = pd.DataFrame(pickle.load(f))"
   ]
  },
  {
   "cell_type": "code",
   "execution_count": null,
   "metadata": {},
   "outputs": [],
   "source": [
    "def plot_confusion_matrix(cm,ax,classes,title):\n",
    "    ax.imshow(cm, interpolation='nearest',cmap=plt.cm.Blues,vmin=0,vmax=1)\n",
    "    ax.set_title(title)\n",
    "    tick_marks = np.arange(len(classes))\n",
    "    ax.set_xticks(tick_marks)\n",
    "    ax.set_yticks(tick_marks)\n",
    "    ax.set_xticklabels(classes)\n",
    "    ax.set_yticklabels(classes)\n",
    "    thresh = cm.max() / 2.\n",
    "    fmt = '.2f'\n",
    "    for i, j in itertools.product(range(cm.shape[0]), range(cm.shape[1])):\n",
    "        ax.text(j, i, format(cm[i, j], fmt),\n",
    "                 horizontalalignment=\"center\",\n",
    "                 color=\"white\" if cm[i, j] > thresh else \"black\")\n",
    "    ax.set_ylabel('True label')\n",
    "    ax.set_xlabel('Predicted label')\n",
    "    for tick in ax.get_xticklabels():\n",
    "        tick.set_rotation(45)\n",
    "    \n",
    "def get_normed_cm(df):\n",
    "    cms = [x for x in df.values.flatten() if x.shape == (7,7)]\n",
    "    summed_cm = np.sum(cms,axis=0)\n",
    "    return summed_cm/summed_cm.sum(axis=1)[:, np.newaxis]\n",
    "\n",
    "fig,ax = plt.subplots(ncols=3,figsize=(24,8),dpi=200)\n",
    "classes = [list(dh.emotion_map.values())[i] for i in range(0,7)]\n",
    "plot_confusion_matrix(get_normed_cm(df_cms_1),ax=ax[0],classes=classes,title='Condition 1')\n",
    "plot_confusion_matrix(get_normed_cm(df_cms_2),ax=ax[1],classes=classes,title='Condition 2')\n",
    "plot_confusion_matrix(get_normed_cm(df_cms_3),ax=ax[2],classes=classes,title='Condition 3')\n",
    "ax[0].grid(False)\n",
    "ax[1].grid(False)\n",
    "ax[2].grid(False)\n",
    "ax[1].set_yticks([])\n",
    "ax[2].set_yticks([])\n",
    "ax[1].set_ylabel('')\n",
    "ax[2].set_ylabel('')\n",
    "plt.tight_layout()"
   ]
  },
  {
   "cell_type": "code",
   "execution_count": null,
   "metadata": {},
   "outputs": [],
   "source": []
  }
 ],
 "metadata": {
  "kernelspec": {
   "display_name": "Python 3",
   "language": "python",
   "name": "python3"
  },
  "language_info": {
   "codemirror_mode": {
    "name": "ipython",
    "version": 3
   },
   "file_extension": ".py",
   "mimetype": "text/x-python",
   "name": "python",
   "nbconvert_exporter": "python",
   "pygments_lexer": "ipython3",
   "version": "3.7.0"
  }
 },
 "nbformat": 4,
 "nbformat_minor": 2
}
