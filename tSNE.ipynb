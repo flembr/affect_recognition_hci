{
 "cells": [
  {
   "cell_type": "code",
   "execution_count": null,
   "metadata": {},
   "outputs": [],
   "source": [
    "%load_ext autoreload\n",
    "%autoreload 2\n",
    "\n",
    "import numpy as np\n",
    "import pandas as pd\n",
    "import librosa\n",
    "\n",
    "from tqdm import tqdm_notebook as tqdm\n",
    "\n",
    "from recording import Recording\n",
    "from auxiliary import *\n",
    "\n",
    "import matplotlib.pyplot as plt\n",
    "import seaborn as sns\n",
    "%matplotlib inline\n",
    "sns.set(font='serif')\n",
    "\n",
    "import os,string\n",
    "\n",
    "from collections import Counter\n",
    "\n",
    "from sklearn.preprocessing import StandardScaler, RobustScaler\n",
    "from sklearn.decomposition import PCA\n",
    "from sklearn.manifold import TSNE\n",
    "from sklearn.feature_selection import mutual_info_classif"
   ]
  },
  {
   "cell_type": "code",
   "execution_count": null,
   "metadata": {},
   "outputs": [],
   "source": [
    "dh = DataHandler()"
   ]
  },
  {
   "cell_type": "code",
   "execution_count": null,
   "metadata": {},
   "outputs": [],
   "source": [
    "df = dh.build_feature_data(condition=2)"
   ]
  },
  {
   "cell_type": "code",
   "execution_count": null,
   "metadata": {},
   "outputs": [],
   "source": [
    "valid_phonemes = list(''.join([string.ascii_letters,string.digits,'@']))\n",
    "df = df[df.phoneme.isin(valid_phonemes)]\n",
    "common_phonemes = {phoneme: count for phoneme,count in Counter(df.phoneme).most_common(48)}\n",
    "common_phonemes"
   ]
  },
  {
   "cell_type": "code",
   "execution_count": null,
   "metadata": {},
   "outputs": [],
   "source": [
    "X = np.squeeze(np.stack(df.feature_vec.tolist()))\n",
    "y = df.phoneme.tolist()\n",
    "X.shape"
   ]
  },
  {
   "cell_type": "code",
   "execution_count": null,
   "metadata": {},
   "outputs": [],
   "source": [
    "X_scl = StandardScaler().fit_transform(X)"
   ]
  },
  {
   "cell_type": "code",
   "execution_count": null,
   "metadata": {},
   "outputs": [],
   "source": [
    "pca = PCA(n_components=30)\n",
    "X_pca = pca.fit_transform(X_scl)\n",
    "np.cumsum(pca.explained_variance_ratio_)"
   ]
  },
  {
   "cell_type": "code",
   "execution_count": null,
   "metadata": {},
   "outputs": [],
   "source": [
    "fig, ax = plt.subplots(nrows=3,figsize=(12,8))\n",
    "\n",
    "X_imp = X_pca\n",
    "\n",
    "feature_score = mutual_info_classif(X_imp,df.phoneme.tolist())\n",
    "sns.barplot(x=[i+1 for i in range(len(feature_score))],y=feature_score,ax=ax[0])\n",
    "ax[0].set_title('Feature Importance - Phoneme')\n",
    "\n",
    "feature_score = mutual_info_classif(X_imp,df.emotion_name.tolist())\n",
    "sns.barplot(x=[i+1 for i in range(len(feature_score))],y=feature_score,ax=ax[1])\n",
    "ax[1].set_title('Feature Importance - Emotion')\n",
    "\n",
    "feature_score = mutual_info_classif(X_imp,df.speaker_id.tolist())\n",
    "sns.barplot(x=[i+1 for i in range(len(feature_score))],y=feature_score,ax=ax[2])\n",
    "ax[2].set_title('Feature Importance - Gender')\n",
    "\n",
    "plt.tight_layout()"
   ]
  },
  {
   "cell_type": "code",
   "execution_count": null,
   "metadata": {},
   "outputs": [],
   "source": [
    "tsne = TSNE(verbose=1)\n",
    "transformed = tsne.fit_transform(X_pca)"
   ]
  },
  {
   "cell_type": "code",
   "execution_count": null,
   "metadata": {},
   "outputs": [],
   "source": [
    "plot_df = pd.DataFrame({'t-SNE 1': transformed[:,0],\n",
    "                        't-SNE 2': transformed[:,1],\n",
    "                        'phoneme': df.phoneme.tolist(), \n",
    "                        'emotion': df.emotion_name.tolist(),\n",
    "                        'speaker': ['s%s (%s)'%(row.speaker_id,row.sex) for i,row in df.iterrows()],\n",
    "                        'sex': df.sex.tolist(),\n",
    "                        'pitch': [row.feature_vec[-2] for i,row in df.iterrows()]})\n",
    "\n",
    "def plot_tSNE_by_hue(data,hue,ax):\n",
    "    sns.scatterplot('t-SNE 1',\n",
    "                    't-SNE 2',\n",
    "                    data=data,\n",
    "                    hue=hue,\n",
    "                    hue_order=sorted(set(data[hue])),\n",
    "                    marker='.',\n",
    "                    edgecolor=None,\n",
    "                    alpha=.5,\n",
    "                    ax=ax)\n",
    "    ax.legend(bbox_to_anchor=(1, 1))\n",
    "    ax.set_xlim([int(min(data['t-SNE 1'])-5),int(max(data['t-SNE 1']))+5])\n",
    "    ax.set_ylim([int(min(data['t-SNE 2'])-5),int(max(data['t-SNE 2']))+5])\n",
    "    \n",
    "def visualize_tSNE(data,title):\n",
    "    fig,ax = plt.subplots(ncols=2,nrows=2,figsize=(14,12),dpi=150)\n",
    "    fig.suptitle(title,y=1.02)\n",
    "    plot_tSNE_by_hue(data,hue='emotion',ax=ax[0][0])\n",
    "    plot_tSNE_by_hue(data,hue='phoneme',ax=ax[0][1])\n",
    "    plot_tSNE_by_hue(data,hue='sex',ax=ax[1][0])\n",
    "    plot_tSNE_by_hue(data,hue='speaker',ax=ax[1][1])\n",
    "    plt.tight_layout()\n",
    "\n",
    "phoneme_list = list(common_phonemes.keys())[:6]\n",
    "visualize_tSNE(plot_df[plot_df.phoneme.isin(phoneme_list)],title='t-SNE (Fitted on all phonemes)')"
   ]
  },
  {
   "cell_type": "code",
   "execution_count": null,
   "metadata": {},
   "outputs": [],
   "source": []
  }
 ],
 "metadata": {
  "kernelspec": {
   "display_name": "Python 3",
   "language": "python",
   "name": "python3"
  },
  "language_info": {
   "codemirror_mode": {
    "name": "ipython",
    "version": 3
   },
   "file_extension": ".py",
   "mimetype": "text/x-python",
   "name": "python",
   "nbconvert_exporter": "python",
   "pygments_lexer": "ipython3",
   "version": "3.7.0"
  }
 },
 "nbformat": 4,
 "nbformat_minor": 2
}
