{
 "cells": [
  {
   "cell_type": "code",
   "execution_count": 1,
   "metadata": {},
   "outputs": [],
   "source": [
    "import numpy as np\n",
    "import pandas as pd\n",
    "from scipy.io import loadmat, wavfile\n",
    "from hmmlearn import hmm\n",
    "import librosa\n",
    "\n",
    "from tqdm import tqdm\n",
    "\n",
    "import matplotlib.pyplot as plt\n",
    "import seaborn as sns\n",
    "%matplotlib inline\n",
    "\n",
    "import os"
   ]
  },
  {
   "cell_type": "code",
   "execution_count": 17,
   "metadata": {},
   "outputs": [
    {
     "name": "stderr",
     "output_type": "stream",
     "text": [
      "816it [00:32, 19.69it/s]\n"
     ]
    },
    {
     "data": {
      "text/html": [
       "<div>\n",
       "<style scoped>\n",
       "    .dataframe tbody tr th:only-of-type {\n",
       "        vertical-align: middle;\n",
       "    }\n",
       "\n",
       "    .dataframe tbody tr th {\n",
       "        vertical-align: top;\n",
       "    }\n",
       "\n",
       "    .dataframe thead th {\n",
       "        text-align: right;\n",
       "    }\n",
       "</style>\n",
       "<table border=\"1\" class=\"dataframe\">\n",
       "  <thead>\n",
       "    <tr style=\"text-align: right;\">\n",
       "      <th></th>\n",
       "      <th>recognized</th>\n",
       "      <th>natural</th>\n",
       "      <th>sex</th>\n",
       "      <th>age</th>\n",
       "      <th>speaker</th>\n",
       "      <th>emotion</th>\n",
       "      <th>MFCC</th>\n",
       "      <th>length</th>\n",
       "    </tr>\n",
       "    <tr>\n",
       "      <th>Satz</th>\n",
       "      <th></th>\n",
       "      <th></th>\n",
       "      <th></th>\n",
       "      <th></th>\n",
       "      <th></th>\n",
       "      <th></th>\n",
       "      <th></th>\n",
       "      <th></th>\n",
       "    </tr>\n",
       "  </thead>\n",
       "  <tbody>\n",
       "    <tr>\n",
       "      <th>03a01Fa</th>\n",
       "      <td>90</td>\n",
       "      <td>75</td>\n",
       "      <td>m</td>\n",
       "      <td>31</td>\n",
       "      <td>03</td>\n",
       "      <td>happiness</td>\n",
       "      <td>[[-4.347192476339575, -4.346940202669367, -4.3...</td>\n",
       "      <td>82</td>\n",
       "    </tr>\n",
       "    <tr>\n",
       "      <th>03a01Nc</th>\n",
       "      <td>100</td>\n",
       "      <td>95</td>\n",
       "      <td>m</td>\n",
       "      <td>31</td>\n",
       "      <td>03</td>\n",
       "      <td>neutral</td>\n",
       "      <td>[[-4.311933282952163, -4.29793227086119, -4.32...</td>\n",
       "      <td>70</td>\n",
       "    </tr>\n",
       "    <tr>\n",
       "      <th>03a01Wa</th>\n",
       "      <td>95</td>\n",
       "      <td>90</td>\n",
       "      <td>m</td>\n",
       "      <td>31</td>\n",
       "      <td>03</td>\n",
       "      <td>anger</td>\n",
       "      <td>[[-4.35638213620816, -4.355873628690113, -4.35...</td>\n",
       "      <td>81</td>\n",
       "    </tr>\n",
       "    <tr>\n",
       "      <th>08a01Ab</th>\n",
       "      <td>85</td>\n",
       "      <td>55</td>\n",
       "      <td>f</td>\n",
       "      <td>34</td>\n",
       "      <td>08</td>\n",
       "      <td>fear</td>\n",
       "      <td>[[-4.350918782530247, -4.340606318271341, -4.3...</td>\n",
       "      <td>80</td>\n",
       "    </tr>\n",
       "    <tr>\n",
       "      <th>08a01Fd</th>\n",
       "      <td>90</td>\n",
       "      <td>50</td>\n",
       "      <td>f</td>\n",
       "      <td>34</td>\n",
       "      <td>08</td>\n",
       "      <td>happiness</td>\n",
       "      <td>[[-4.346075475962691, -4.346013052553768, -4.3...</td>\n",
       "      <td>100</td>\n",
       "    </tr>\n",
       "  </tbody>\n",
       "</table>\n",
       "</div>"
      ],
      "text/plain": [
       "         recognized  natural sex  age speaker    emotion  \\\n",
       "Satz                                                       \n",
       "03a01Fa          90       75   m   31      03  happiness   \n",
       "03a01Nc         100       95   m   31      03    neutral   \n",
       "03a01Wa          95       90   m   31      03      anger   \n",
       "08a01Ab          85       55   f   34      08       fear   \n",
       "08a01Fd          90       50   f   34      08  happiness   \n",
       "\n",
       "                                                      MFCC  length  \n",
       "Satz                                                                \n",
       "03a01Fa  [[-4.347192476339575, -4.346940202669367, -4.3...      82  \n",
       "03a01Nc  [[-4.311933282952163, -4.29793227086119, -4.32...      70  \n",
       "03a01Wa  [[-4.35638213620816, -4.355873628690113, -4.35...      81  \n",
       "08a01Ab  [[-4.350918782530247, -4.340606318271341, -4.3...      80  \n",
       "08a01Fd  [[-4.346075475962691, -4.346013052553768, -4.3...     100  "
      ]
     },
     "execution_count": 17,
     "metadata": {},
     "output_type": "execute_result"
    }
   ],
   "source": [
    "speaker_info = {'03': ('m', 31), '08': ('f', 34), '09': ('f', 21), '10': ('m', 32), '11': ('m', 26),\n",
    "                '12': ('m', 30), '13': ('f', 32), '14': ('f', 35), '15': ('m', 25), '16': ('f', 31)}\n",
    "emotion_map = {'A': 'fear', 'E': 'disgust', 'W': 'anger', 'L': 'boredom', \n",
    "               'F': 'happiness', 'N': 'neutral', 'T': 'sadness'}\n",
    "\n",
    "df = pd.read_csv('./EmoDB/erkennung.txt',sep='\\t',encoding='Latin1',index_col=0)\n",
    "exists, mfcc, lengths = [],[],[]\n",
    "\n",
    "df.Satz = df.Satz.apply(lambda x: x.split('.')[0])\n",
    "df.erkannt = df.erkannt.apply(lambda x: int(x.split(',')[0]))\n",
    "df.natuerlich = df.natuerlich.apply(lambda x: int(x.split(',')[0]))\n",
    "df['sex'] = df.Satz.apply(lambda x: speaker_info[x[:2]][0])\n",
    "df['age'] = df.Satz.apply(lambda x: speaker_info[x[:2]][1])\n",
    "df['speaker'] = df.Satz.apply(lambda x: x[:2])\n",
    "df['emotion'] = df.Satz.apply(lambda x: emotion_map[x[5]])\n",
    "\n",
    "for index,row in tqdm(df.iterrows()):    \n",
    "    if os.path.exists('./EmoDB/wav/%s.wav'%row.Satz):\n",
    "        exists.append(True)\n",
    "        signal,fs = librosa.load('./EmoDB/wav/%s.wav'%row.Satz)\n",
    "        mfcc_cepstrum = librosa.feature.mfcc(y=signal,sr=fs,n_mfcc=20)\n",
    "        mfcc_cepstrum = ((mfcc_cepstrum-np.mean(mfcc_cepstrum,axis=0))/np.std(mfcc_cepstrum,axis=0))\n",
    "        mfcc.append(mfcc_cepstrum)\n",
    "        lengths.append(mfcc[-1].shape[1])\n",
    "    else: # wave-file not found\n",
    "        exists.append(False)\n",
    "        mfcc.append(np.NAN)\n",
    "        lengths.append(0)\n",
    "\n",
    "df['wav_available'] = exists\n",
    "df['MFCC'] = mfcc\n",
    "df['length'] = lengths\n",
    "df = df.rename(index=str, columns={'erkannt': 'recognized', 'natuerlich': 'natural'})\n",
    "df = df.set_index('Satz')\n",
    "df = df[df.wav_available]\n",
    "df = df.drop('wav_available',axis=1)\n",
    "df.head()"
   ]
  },
  {
   "cell_type": "code",
   "execution_count": 16,
   "metadata": {},
   "outputs": [
    {
     "data": {
      "text/plain": [
       "<matplotlib.axes._subplots.AxesSubplot at 0x130ac06d8>"
      ]
     },
     "execution_count": 16,
     "metadata": {},
     "output_type": "execute_result"
    },
    {
     "data": {
      "image/png": "[encoded data removed]",
      "text/plain": [
       "<Figure size 432x288 with 2 Axes>"
      ]
     },
     "metadata": {
      "needs_background": "light"
     },
     "output_type": "display_data"
    }
   ],
   "source": [
    "sns.heatmap(df.MFCC.values[0])"
   ]
  },
  {
   "cell_type": "code",
   "execution_count": 20,
   "metadata": {},
   "outputs": [
    {
     "data": {
      "text/html": [
       "<div>\n",
       "<style scoped>\n",
       "    .dataframe tbody tr th:only-of-type {\n",
       "        vertical-align: middle;\n",
       "    }\n",
       "\n",
       "    .dataframe tbody tr th {\n",
       "        vertical-align: top;\n",
       "    }\n",
       "\n",
       "    .dataframe thead th {\n",
       "        text-align: right;\n",
       "    }\n",
       "</style>\n",
       "<table border=\"1\" class=\"dataframe\">\n",
       "  <thead>\n",
       "    <tr style=\"text-align: right;\">\n",
       "      <th></th>\n",
       "      <th>recognized</th>\n",
       "      <th>natural</th>\n",
       "      <th>sex</th>\n",
       "      <th>age</th>\n",
       "      <th>speaker</th>\n",
       "      <th>emotion</th>\n",
       "      <th>MFCC</th>\n",
       "      <th>length</th>\n",
       "      <th>clusters</th>\n",
       "      <th>label</th>\n",
       "      <th>cluster_vec</th>\n",
       "      <th>cluster</th>\n",
       "    </tr>\n",
       "    <tr>\n",
       "      <th>Satz</th>\n",
       "      <th></th>\n",
       "      <th></th>\n",
       "      <th></th>\n",
       "      <th></th>\n",
       "      <th></th>\n",
       "      <th></th>\n",
       "      <th></th>\n",
       "      <th></th>\n",
       "      <th></th>\n",
       "      <th></th>\n",
       "      <th></th>\n",
       "      <th></th>\n",
       "    </tr>\n",
       "  </thead>\n",
       "  <tbody>\n",
       "    <tr>\n",
       "      <th>03a01Fa</th>\n",
       "      <td>90</td>\n",
       "      <td>75</td>\n",
       "      <td>m</td>\n",
       "      <td>31</td>\n",
       "      <td>03</td>\n",
       "      <td>happiness</td>\n",
       "      <td>[[-567.6825147990252, -581.654191099738, -586....</td>\n",
       "      <td>82</td>\n",
       "      <td>[[0.0, 0.0, 1.0, 0.0, 0.0, 0.0, 0.0, 0.0, 0.0,...</td>\n",
       "      <td>[happiness, happiness, happiness, happiness, h...</td>\n",
       "      <td>[[0.0, 1.0, 0.0, 0.0, 0.0, 0.0, 0.0, 0.0, 0.0,...</td>\n",
       "      <td>[1, 1, 1, 1, 8, 0, 4, 4, 4, 4, 6, 8, 8, 8, 6, ...</td>\n",
       "    </tr>\n",
       "    <tr>\n",
       "      <th>03a01Nc</th>\n",
       "      <td>100</td>\n",
       "      <td>95</td>\n",
       "      <td>m</td>\n",
       "      <td>31</td>\n",
       "      <td>03</td>\n",
       "      <td>neutral</td>\n",
       "      <td>[[-533.0046075163939, -523.9818990959373, -542...</td>\n",
       "      <td>70</td>\n",
       "      <td>[[0.0, 0.0, 1.0, 0.0, 0.0, 0.0, 0.0, 0.0, 0.0,...</td>\n",
       "      <td>[neutral, neutral, neutral, neutral, neutral, ...</td>\n",
       "      <td>[[0.0, 1.0, 0.0, 0.0, 0.0, 0.0, 0.0, 0.0, 0.0,...</td>\n",
       "      <td>[1, 1, 1, 1, 8, 6, 4, 4, 4, 4, 4, 4, 4, 6, 2, ...</td>\n",
       "    </tr>\n",
       "    <tr>\n",
       "      <th>03a01Wa</th>\n",
       "      <td>95</td>\n",
       "      <td>90</td>\n",
       "      <td>m</td>\n",
       "      <td>31</td>\n",
       "      <td>03</td>\n",
       "      <td>anger</td>\n",
       "      <td>[[-542.0457748127102, -541.8060849373669, -541...</td>\n",
       "      <td>81</td>\n",
       "      <td>[[0.0, 0.0, 1.0, 0.0, 0.0, 0.0, 0.0, 0.0, 0.0,...</td>\n",
       "      <td>[anger, anger, anger, anger, anger, anger, ang...</td>\n",
       "      <td>[[0.0, 1.0, 0.0, 0.0, 0.0, 0.0, 0.0, 0.0, 0.0,...</td>\n",
       "      <td>[1, 1, 1, 1, 1, 8, 4, 4, 3, 4, 4, 0, 0, 4, 3, ...</td>\n",
       "    </tr>\n",
       "    <tr>\n",
       "      <th>08a01Ab</th>\n",
       "      <td>85</td>\n",
       "      <td>55</td>\n",
       "      <td>f</td>\n",
       "      <td>34</td>\n",
       "      <td>08</td>\n",
       "      <td>fear</td>\n",
       "      <td>[[-535.9774832996947, -511.03487434141783, -51...</td>\n",
       "      <td>80</td>\n",
       "      <td>[[0.0, 0.0, 1.0, 0.0, 0.0, 0.0, 0.0, 0.0, 0.0,...</td>\n",
       "      <td>[fear, fear, fear, fear, fear, fear, fear, fea...</td>\n",
       "      <td>[[0.0, 1.0, 0.0, 0.0, 0.0, 0.0, 0.0, 0.0, 0.0,...</td>\n",
       "      <td>[1, 1, 1, 2, 0, 0, 4, 4, 0, 0, 0, 4, 3, 3, 3, ...</td>\n",
       "    </tr>\n",
       "    <tr>\n",
       "      <th>08a01Fd</th>\n",
       "      <td>90</td>\n",
       "      <td>50</td>\n",
       "      <td>f</td>\n",
       "      <td>34</td>\n",
       "      <td>08</td>\n",
       "      <td>happiness</td>\n",
       "      <td>[[-454.30345984732406, -455.7445815900608, -45...</td>\n",
       "      <td>100</td>\n",
       "      <td>[[0.0, 0.0, 0.0, 0.0, 0.0, 0.0, 0.0, 0.0, 0.0,...</td>\n",
       "      <td>[happiness, happiness, happiness, happiness, h...</td>\n",
       "      <td>[[0.0, 1.0, 0.0, 0.0, 0.0, 0.0, 0.0, 0.0, 0.0,...</td>\n",
       "      <td>[1, 1, 1, 1, 1, 1, 1, 1, 1, 1, 1, 1, 1, 1, 1, ...</td>\n",
       "    </tr>\n",
       "  </tbody>\n",
       "</table>\n",
       "</div>"
      ],
      "text/plain": [
       "         recognized  natural sex  age speaker    emotion  \\\n",
       "Satz                                                       \n",
       "03a01Fa          90       75   m   31      03  happiness   \n",
       "03a01Nc         100       95   m   31      03    neutral   \n",
       "03a01Wa          95       90   m   31      03      anger   \n",
       "08a01Ab          85       55   f   34      08       fear   \n",
       "08a01Fd          90       50   f   34      08  happiness   \n",
       "\n",
       "                                                      MFCC  length  \\\n",
       "Satz                                                                 \n",
       "03a01Fa  [[-567.6825147990252, -581.654191099738, -586....      82   \n",
       "03a01Nc  [[-533.0046075163939, -523.9818990959373, -542...      70   \n",
       "03a01Wa  [[-542.0457748127102, -541.8060849373669, -541...      81   \n",
       "08a01Ab  [[-535.9774832996947, -511.03487434141783, -51...      80   \n",
       "08a01Fd  [[-454.30345984732406, -455.7445815900608, -45...     100   \n",
       "\n",
       "                                                  clusters  \\\n",
       "Satz                                                         \n",
       "03a01Fa  [[0.0, 0.0, 1.0, 0.0, 0.0, 0.0, 0.0, 0.0, 0.0,...   \n",
       "03a01Nc  [[0.0, 0.0, 1.0, 0.0, 0.0, 0.0, 0.0, 0.0, 0.0,...   \n",
       "03a01Wa  [[0.0, 0.0, 1.0, 0.0, 0.0, 0.0, 0.0, 0.0, 0.0,...   \n",
       "08a01Ab  [[0.0, 0.0, 1.0, 0.0, 0.0, 0.0, 0.0, 0.0, 0.0,...   \n",
       "08a01Fd  [[0.0, 0.0, 0.0, 0.0, 0.0, 0.0, 0.0, 0.0, 0.0,...   \n",
       "\n",
       "                                                     label  \\\n",
       "Satz                                                         \n",
       "03a01Fa  [happiness, happiness, happiness, happiness, h...   \n",
       "03a01Nc  [neutral, neutral, neutral, neutral, neutral, ...   \n",
       "03a01Wa  [anger, anger, anger, anger, anger, anger, ang...   \n",
       "08a01Ab  [fear, fear, fear, fear, fear, fear, fear, fea...   \n",
       "08a01Fd  [happiness, happiness, happiness, happiness, h...   \n",
       "\n",
       "                                               cluster_vec  \\\n",
       "Satz                                                         \n",
       "03a01Fa  [[0.0, 1.0, 0.0, 0.0, 0.0, 0.0, 0.0, 0.0, 0.0,...   \n",
       "03a01Nc  [[0.0, 1.0, 0.0, 0.0, 0.0, 0.0, 0.0, 0.0, 0.0,...   \n",
       "03a01Wa  [[0.0, 1.0, 0.0, 0.0, 0.0, 0.0, 0.0, 0.0, 0.0,...   \n",
       "08a01Ab  [[0.0, 1.0, 0.0, 0.0, 0.0, 0.0, 0.0, 0.0, 0.0,...   \n",
       "08a01Fd  [[0.0, 1.0, 0.0, 0.0, 0.0, 0.0, 0.0, 0.0, 0.0,...   \n",
       "\n",
       "                                                   cluster  \n",
       "Satz                                                        \n",
       "03a01Fa  [1, 1, 1, 1, 8, 0, 4, 4, 4, 4, 6, 8, 8, 8, 6, ...  \n",
       "03a01Nc  [1, 1, 1, 1, 8, 6, 4, 4, 4, 4, 4, 4, 4, 6, 2, ...  \n",
       "03a01Wa  [1, 1, 1, 1, 1, 8, 4, 4, 3, 4, 4, 0, 0, 4, 3, ...  \n",
       "08a01Ab  [1, 1, 1, 2, 0, 0, 4, 4, 0, 0, 0, 4, 3, 3, 3, ...  \n",
       "08a01Fd  [1, 1, 1, 1, 1, 1, 1, 1, 1, 1, 1, 1, 1, 1, 1, ...  "
      ]
     },
     "execution_count": 20,
     "metadata": {},
     "output_type": "execute_result"
    }
   ],
   "source": [
    "from sklearn.cluster import MiniBatchKMeans\n",
    "\n",
    "k_means = MiniBatchKMeans(n_clusters=10)\n",
    "    \n",
    "X = np.concatenate(df.MFCC,axis=1).T\n",
    "X[np.isnan(X)] = 0\n",
    "k_means.fit(X)\n",
    "\n",
    "df['cluster_vec'] = df.MFCC.apply(lambda x: np.eye(100)[k_means.predict(x.T)]) \n",
    "df['cluster'] = df.MFCC.apply(lambda x: k_means.predict(x.T))\n",
    "df['label'] = df.apply(lambda x: [x.emotion]*x.length,axis=1)\n",
    "df.head()"
   ]
  },
  {
   "cell_type": "code",
   "execution_count": 49,
   "metadata": {},
   "outputs": [
    {
     "name": "stdout",
     "output_type": "stream",
     "text": [
      "7817 7817 71\n"
     ]
    }
   ],
   "source": [
    "X = np.concatenate(df[df.emotion == 'happiness'].cluster_vec)\n",
    "y = np.concatenate(df[df.emotion == 'happiness'].label)\n",
    "lengths = df[df.emotion == 'happiness'].length\n",
    "print(len(X),len(y),len(lengths))"
   ]
  },
  {
   "cell_type": "code",
   "execution_count": 51,
   "metadata": {},
   "outputs": [
    {
     "name": "stderr",
     "output_type": "stream",
     "text": [
      "/Users/flemming/miniconda3/envs/affect_recognition/lib/python3.7/site-packages/hmmlearn/stats.py:47: RuntimeWarning: divide by zero encountered in log\n",
      "  + np.dot(X ** 2, (1.0 / covars).T))\n",
      "/Users/flemming/miniconda3/envs/affect_recognition/lib/python3.7/site-packages/hmmlearn/stats.py:47: RuntimeWarning: invalid value encountered in true_divide\n",
      "  + np.dot(X ** 2, (1.0 / covars).T))\n",
      "/Users/flemming/miniconda3/envs/affect_recognition/lib/python3.7/site-packages/hmmlearn/stats.py:47: RuntimeWarning: divide by zero encountered in true_divide\n",
      "  + np.dot(X ** 2, (1.0 / covars).T))\n",
      "/Users/flemming/miniconda3/envs/affect_recognition/lib/python3.7/site-packages/numpy/core/fromnumeric.py:83: RuntimeWarning: invalid value encountered in reduce\n",
      "  return ufunc.reduce(obj, axis, dtype, out, **passkwargs)\n"
     ]
    },
    {
     "name": "stdout",
     "output_type": "stream",
     "text": [
      "happiness\n"
     ]
    },
    {
     "ename": "ValueError",
     "evalue": "startprob_ must sum to 1.0 (got nan)",
     "output_type": "error",
     "traceback": [
      "\u001b[0;31m---------------------------------------------------------------------------\u001b[0m",
      "\u001b[0;31mValueError\u001b[0m                                Traceback (most recent call last)",
      "\u001b[0;32m<ipython-input-51-6bca7a73775e>\u001b[0m in \u001b[0;36m<module>\u001b[0;34m()\u001b[0m\n\u001b[1;32m      5\u001b[0m \u001b[0my_test\u001b[0m \u001b[0;34m=\u001b[0m \u001b[0mdf\u001b[0m\u001b[0;34m.\u001b[0m\u001b[0memotion\u001b[0m\u001b[0;34m[\u001b[0m\u001b[0midx\u001b[0m\u001b[0;34m]\u001b[0m\u001b[0;34m\u001b[0m\u001b[0m\n\u001b[1;32m      6\u001b[0m \u001b[0mprint\u001b[0m\u001b[0;34m(\u001b[0m\u001b[0my_test\u001b[0m\u001b[0;34m)\u001b[0m\u001b[0;34m\u001b[0m\u001b[0m\n\u001b[0;32m----> 7\u001b[0;31m \u001b[0mmarkov\u001b[0m\u001b[0;34m.\u001b[0m\u001b[0mpredict_proba\u001b[0m\u001b[0;34m(\u001b[0m\u001b[0mX_test\u001b[0m\u001b[0;34m.\u001b[0m\u001b[0mreshape\u001b[0m\u001b[0;34m(\u001b[0m\u001b[0;34m-\u001b[0m\u001b[0;36m1\u001b[0m\u001b[0;34m,\u001b[0m\u001b[0;36m1\u001b[0m\u001b[0;34m)\u001b[0m\u001b[0;34m)\u001b[0m\u001b[0;34m.\u001b[0m\u001b[0mmean\u001b[0m\u001b[0;34m(\u001b[0m\u001b[0;34m)\u001b[0m\u001b[0;34m\u001b[0m\u001b[0m\n\u001b[0m",
      "\u001b[0;32m~/miniconda3/envs/affect_recognition/lib/python3.7/site-packages/hmmlearn/base.py\u001b[0m in \u001b[0;36mpredict_proba\u001b[0;34m(self, X, lengths)\u001b[0m\n\u001b[1;32m    352\u001b[0m             \u001b[0mState\u001b[0m\u001b[0;34m-\u001b[0m\u001b[0mmembership\u001b[0m \u001b[0mprobabilities\u001b[0m \u001b[0;32mfor\u001b[0m \u001b[0meach\u001b[0m \u001b[0msample\u001b[0m \u001b[0;32mfrom\u001b[0m\u001b[0;31m \u001b[0m\u001b[0;31m`\u001b[0m\u001b[0;31m`\u001b[0m\u001b[0mX\u001b[0m\u001b[0;31m`\u001b[0m\u001b[0;31m`\u001b[0m\u001b[0;34m.\u001b[0m\u001b[0;34m\u001b[0m\u001b[0m\n\u001b[1;32m    353\u001b[0m         \"\"\"\n\u001b[0;32m--> 354\u001b[0;31m         \u001b[0m_\u001b[0m\u001b[0;34m,\u001b[0m \u001b[0mposteriors\u001b[0m \u001b[0;34m=\u001b[0m \u001b[0mself\u001b[0m\u001b[0;34m.\u001b[0m\u001b[0mscore_samples\u001b[0m\u001b[0;34m(\u001b[0m\u001b[0mX\u001b[0m\u001b[0;34m,\u001b[0m \u001b[0mlengths\u001b[0m\u001b[0;34m)\u001b[0m\u001b[0;34m\u001b[0m\u001b[0m\n\u001b[0m\u001b[1;32m    355\u001b[0m         \u001b[0;32mreturn\u001b[0m \u001b[0mposteriors\u001b[0m\u001b[0;34m\u001b[0m\u001b[0m\n\u001b[1;32m    356\u001b[0m \u001b[0;34m\u001b[0m\u001b[0m\n",
      "\u001b[0;32m~/miniconda3/envs/affect_recognition/lib/python3.7/site-packages/hmmlearn/base.py\u001b[0m in \u001b[0;36mscore_samples\u001b[0;34m(self, X, lengths)\u001b[0m\n\u001b[1;32m    202\u001b[0m         \"\"\"\n\u001b[1;32m    203\u001b[0m         \u001b[0mcheck_is_fitted\u001b[0m\u001b[0;34m(\u001b[0m\u001b[0mself\u001b[0m\u001b[0;34m,\u001b[0m \u001b[0;34m\"startprob_\"\u001b[0m\u001b[0;34m)\u001b[0m\u001b[0;34m\u001b[0m\u001b[0m\n\u001b[0;32m--> 204\u001b[0;31m         \u001b[0mself\u001b[0m\u001b[0;34m.\u001b[0m\u001b[0m_check\u001b[0m\u001b[0;34m(\u001b[0m\u001b[0;34m)\u001b[0m\u001b[0;34m\u001b[0m\u001b[0m\n\u001b[0m\u001b[1;32m    205\u001b[0m \u001b[0;34m\u001b[0m\u001b[0m\n\u001b[1;32m    206\u001b[0m         \u001b[0mX\u001b[0m \u001b[0;34m=\u001b[0m \u001b[0mcheck_array\u001b[0m\u001b[0;34m(\u001b[0m\u001b[0mX\u001b[0m\u001b[0;34m)\u001b[0m\u001b[0;34m\u001b[0m\u001b[0m\n",
      "\u001b[0;32m~/miniconda3/envs/affect_recognition/lib/python3.7/site-packages/hmmlearn/hmm.py\u001b[0m in \u001b[0;36m_check\u001b[0;34m(self)\u001b[0m\n\u001b[1;32m    701\u001b[0m \u001b[0;34m\u001b[0m\u001b[0m\n\u001b[1;32m    702\u001b[0m     \u001b[0;32mdef\u001b[0m \u001b[0m_check\u001b[0m\u001b[0;34m(\u001b[0m\u001b[0mself\u001b[0m\u001b[0;34m)\u001b[0m\u001b[0;34m:\u001b[0m\u001b[0;34m\u001b[0m\u001b[0m\n\u001b[0;32m--> 703\u001b[0;31m         \u001b[0msuper\u001b[0m\u001b[0;34m(\u001b[0m\u001b[0mGMMHMM\u001b[0m\u001b[0;34m,\u001b[0m \u001b[0mself\u001b[0m\u001b[0;34m)\u001b[0m\u001b[0;34m.\u001b[0m\u001b[0m_check\u001b[0m\u001b[0;34m(\u001b[0m\u001b[0;34m)\u001b[0m\u001b[0;34m\u001b[0m\u001b[0m\n\u001b[0m\u001b[1;32m    704\u001b[0m \u001b[0;34m\u001b[0m\u001b[0m\n\u001b[1;32m    705\u001b[0m         \u001b[0;32mif\u001b[0m \u001b[0;32mnot\u001b[0m \u001b[0mhasattr\u001b[0m\u001b[0;34m(\u001b[0m\u001b[0mself\u001b[0m\u001b[0;34m,\u001b[0m \u001b[0;34m\"n_features\"\u001b[0m\u001b[0;34m)\u001b[0m\u001b[0;34m:\u001b[0m\u001b[0;34m\u001b[0m\u001b[0m\n",
      "\u001b[0;32m~/miniconda3/envs/affect_recognition/lib/python3.7/site-packages/hmmlearn/base.py\u001b[0m in \u001b[0;36m_check\u001b[0;34m(self)\u001b[0m\n\u001b[1;32m    519\u001b[0m         \u001b[0;32mif\u001b[0m \u001b[0;32mnot\u001b[0m \u001b[0mnp\u001b[0m\u001b[0;34m.\u001b[0m\u001b[0mallclose\u001b[0m\u001b[0;34m(\u001b[0m\u001b[0mself\u001b[0m\u001b[0;34m.\u001b[0m\u001b[0mstartprob_\u001b[0m\u001b[0;34m.\u001b[0m\u001b[0msum\u001b[0m\u001b[0;34m(\u001b[0m\u001b[0;34m)\u001b[0m\u001b[0;34m,\u001b[0m \u001b[0;36m1.0\u001b[0m\u001b[0;34m)\u001b[0m\u001b[0;34m:\u001b[0m\u001b[0;34m\u001b[0m\u001b[0m\n\u001b[1;32m    520\u001b[0m             raise ValueError(\"startprob_ must sum to 1.0 (got {0:.4f})\"\n\u001b[0;32m--> 521\u001b[0;31m                              .format(self.startprob_.sum()))\n\u001b[0m\u001b[1;32m    522\u001b[0m \u001b[0;34m\u001b[0m\u001b[0m\n\u001b[1;32m    523\u001b[0m         \u001b[0mself\u001b[0m\u001b[0;34m.\u001b[0m\u001b[0mtransmat_\u001b[0m \u001b[0;34m=\u001b[0m \u001b[0mnp\u001b[0m\u001b[0;34m.\u001b[0m\u001b[0masarray\u001b[0m\u001b[0;34m(\u001b[0m\u001b[0mself\u001b[0m\u001b[0;34m.\u001b[0m\u001b[0mtransmat_\u001b[0m\u001b[0;34m)\u001b[0m\u001b[0;34m\u001b[0m\u001b[0m\n",
      "\u001b[0;31mValueError\u001b[0m: startprob_ must sum to 1.0 (got nan)"
     ]
    }
   ],
   "source": [
    "markov = hmm.GMMHMM(n_components=3,n_iter=1000).fit(X,lengths)\n",
    "\n",
    "idx = 4\n",
    "X_test = df.cluster.values[idx]\n",
    "y_test = df.emotion[idx]\n",
    "print(y_test)\n",
    "markov.predict_proba(X_test.reshape(-1,1)).mean()"
   ]
  },
  {
   "cell_type": "code",
   "execution_count": 70,
   "metadata": {},
   "outputs": [
    {
     "data": {
      "text/plain": [
       "0.0"
      ]
     },
     "execution_count": 70,
     "metadata": {},
     "output_type": "execute_result"
    }
   ],
   "source": [
    "np.exp(markov.score(df.MFCC.values[0].T))"
   ]
  },
  {
   "cell_type": "code",
   "execution_count": null,
   "metadata": {},
   "outputs": [],
   "source": []
  }
 ],
 "metadata": {
  "kernelspec": {
   "display_name": "Python 3",
   "language": "python",
   "name": "python3"
  },
  "language_info": {
   "codemirror_mode": {
    "name": "ipython",
    "version": 3
   },
   "file_extension": ".py",
   "mimetype": "text/x-python",
   "name": "python",
   "nbconvert_exporter": "python",
   "pygments_lexer": "ipython3",
   "version": "3.7.0"
  }
 },
 "nbformat": 4,
 "nbformat_minor": 2
}
