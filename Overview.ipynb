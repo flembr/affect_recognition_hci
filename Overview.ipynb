{
 "cells": [
  {
   "cell_type": "code",
   "execution_count": 114,
   "metadata": {},
   "outputs": [
    {
     "name": "stdout",
     "output_type": "stream",
     "text": [
      "The autoreload extension is already loaded. To reload it, use:\n",
      "  %reload_ext autoreload\n"
     ]
    }
   ],
   "source": [
    "%load_ext autoreload\n",
    "%autoreload 2\n",
    "\n",
    "from recording import Recording\n",
    "\n",
    "import numpy as np\n",
    "\n",
    "import librosa\n",
    "\n",
    "%matplotlib inline\n",
    "import matplotlib.pyplot as plt\n",
    "import seaborn as sns"
   ]
  },
  {
   "cell_type": "code",
   "execution_count": 128,
   "metadata": {},
   "outputs": [],
   "source": [
    "rec = Recording('03a01Fa')"
   ]
  },
  {
   "cell_type": "code",
   "execution_count": 79,
   "metadata": {},
   "outputs": [
    {
     "data": {
      "text/html": [
       "<div>\n",
       "<style scoped>\n",
       "    .dataframe tbody tr th:only-of-type {\n",
       "        vertical-align: middle;\n",
       "    }\n",
       "\n",
       "    .dataframe tbody tr th {\n",
       "        vertical-align: top;\n",
       "    }\n",
       "\n",
       "    .dataframe thead th {\n",
       "        text-align: right;\n",
       "    }\n",
       "</style>\n",
       "<table border=\"1\" class=\"dataframe\">\n",
       "  <thead>\n",
       "    <tr style=\"text-align: right;\">\n",
       "      <th></th>\n",
       "      <th>t_start</th>\n",
       "      <th>t_stop</th>\n",
       "      <th>phoneme</th>\n",
       "      <th>auxiliary1</th>\n",
       "      <th>auxiliary2</th>\n",
       "    </tr>\n",
       "  </thead>\n",
       "  <tbody>\n",
       "    <tr>\n",
       "      <th>0</th>\n",
       "      <td>0.080109</td>\n",
       "      <td>0.119160</td>\n",
       "      <td>_t</td>\n",
       "      <td></td>\n",
       "      <td></td>\n",
       "    </tr>\n",
       "    <tr>\n",
       "      <th>1</th>\n",
       "      <td>0.119160</td>\n",
       "      <td>0.144370</td>\n",
       "      <td>!t</td>\n",
       "      <td>+asp</td>\n",
       "      <td></td>\n",
       "    </tr>\n",
       "    <tr>\n",
       "      <th>2</th>\n",
       "      <td>0.144370</td>\n",
       "      <td>0.244223</td>\n",
       "      <td>E6</td>\n",
       "      <td></td>\n",
       "      <td></td>\n",
       "    </tr>\n",
       "    <tr>\n",
       "      <th>3</th>\n",
       "      <td>0.244223</td>\n",
       "      <td>0.348031</td>\n",
       "      <td>l</td>\n",
       "      <td></td>\n",
       "      <td></td>\n",
       "    </tr>\n",
       "    <tr>\n",
       "      <th>4</th>\n",
       "      <td>0.348031</td>\n",
       "      <td>0.427091</td>\n",
       "      <td>a</td>\n",
       "      <td></td>\n",
       "      <td>2</td>\n",
       "    </tr>\n",
       "    <tr>\n",
       "      <th>5</th>\n",
       "      <td>0.427091</td>\n",
       "      <td>0.509149</td>\n",
       "      <td>p</td>\n",
       "      <td></td>\n",
       "      <td></td>\n",
       "    </tr>\n",
       "    <tr>\n",
       "      <th>6</th>\n",
       "      <td>0.509149</td>\n",
       "      <td>0.551660</td>\n",
       "      <td>!p</td>\n",
       "      <td>+na</td>\n",
       "      <td></td>\n",
       "    </tr>\n",
       "    <tr>\n",
       "      <th>7</th>\n",
       "      <td>0.551660</td>\n",
       "      <td>0.602575</td>\n",
       "      <td>m</td>\n",
       "      <td>+sil</td>\n",
       "      <td></td>\n",
       "    </tr>\n",
       "    <tr>\n",
       "      <th>8</th>\n",
       "      <td>0.602575</td>\n",
       "      <td>0.698978</td>\n",
       "      <td>l</td>\n",
       "      <td></td>\n",
       "      <td></td>\n",
       "    </tr>\n",
       "    <tr>\n",
       "      <th>9</th>\n",
       "      <td>0.698978</td>\n",
       "      <td>0.768183</td>\n",
       "      <td>i</td>\n",
       "      <td></td>\n",
       "      <td></td>\n",
       "    </tr>\n",
       "    <tr>\n",
       "      <th>10</th>\n",
       "      <td>0.768183</td>\n",
       "      <td>0.802292</td>\n",
       "      <td></td>\n",
       "      <td>+hoe</td>\n",
       "      <td></td>\n",
       "    </tr>\n",
       "    <tr>\n",
       "      <th>11</th>\n",
       "      <td>0.802292</td>\n",
       "      <td>0.846286</td>\n",
       "      <td>t</td>\n",
       "      <td></td>\n",
       "      <td></td>\n",
       "    </tr>\n",
       "    <tr>\n",
       "      <th>12</th>\n",
       "      <td>0.846286</td>\n",
       "      <td>0.865565</td>\n",
       "      <td>!t</td>\n",
       "      <td></td>\n",
       "      <td></td>\n",
       "    </tr>\n",
       "    <tr>\n",
       "      <th>13</th>\n",
       "      <td>0.865565</td>\n",
       "      <td>0.903133</td>\n",
       "      <td>a</td>\n",
       "      <td>+lar</td>\n",
       "      <td></td>\n",
       "    </tr>\n",
       "    <tr>\n",
       "      <th>14</th>\n",
       "      <td>0.903133</td>\n",
       "      <td>0.938230</td>\n",
       "      <td></td>\n",
       "      <td>-lar</td>\n",
       "      <td></td>\n",
       "    </tr>\n",
       "    <tr>\n",
       "      <th>15</th>\n",
       "      <td>0.938230</td>\n",
       "      <td>0.981748</td>\n",
       "      <td>f</td>\n",
       "      <td></td>\n",
       "      <td></td>\n",
       "    </tr>\n",
       "    <tr>\n",
       "      <th>16</th>\n",
       "      <td>0.981748</td>\n",
       "      <td>1.025743</td>\n",
       "      <td>d</td>\n",
       "      <td>-sth</td>\n",
       "      <td></td>\n",
       "    </tr>\n",
       "    <tr>\n",
       "      <th>17</th>\n",
       "      <td>1.025743</td>\n",
       "      <td>1.044033</td>\n",
       "      <td>!d</td>\n",
       "      <td></td>\n",
       "      <td></td>\n",
       "    </tr>\n",
       "    <tr>\n",
       "      <th>18</th>\n",
       "      <td>1.044033</td>\n",
       "      <td>1.081601</td>\n",
       "      <td>I</td>\n",
       "      <td></td>\n",
       "      <td></td>\n",
       "    </tr>\n",
       "    <tr>\n",
       "      <th>19</th>\n",
       "      <td>1.081601</td>\n",
       "      <td>1.146357</td>\n",
       "      <td>m</td>\n",
       "      <td></td>\n",
       "      <td></td>\n",
       "    </tr>\n",
       "    <tr>\n",
       "      <th>20</th>\n",
       "      <td>1.146357</td>\n",
       "      <td>1.192329</td>\n",
       "      <td>aI</td>\n",
       "      <td>+lar</td>\n",
       "      <td>3</td>\n",
       "    </tr>\n",
       "    <tr>\n",
       "      <th>21</th>\n",
       "      <td>1.192329</td>\n",
       "      <td>1.331737</td>\n",
       "      <td></td>\n",
       "      <td>-lar</td>\n",
       "      <td></td>\n",
       "    </tr>\n",
       "    <tr>\n",
       "      <th>22</th>\n",
       "      <td>1.331737</td>\n",
       "      <td>1.343601</td>\n",
       "      <td>s</td>\n",
       "      <td>+sth</td>\n",
       "      <td></td>\n",
       "    </tr>\n",
       "    <tr>\n",
       "      <th>23</th>\n",
       "      <td>1.343601</td>\n",
       "      <td>1.392539</td>\n",
       "      <td></td>\n",
       "      <td>-sth</td>\n",
       "      <td></td>\n",
       "    </tr>\n",
       "    <tr>\n",
       "      <th>24</th>\n",
       "      <td>1.392539</td>\n",
       "      <td>1.491403</td>\n",
       "      <td>S</td>\n",
       "      <td></td>\n",
       "      <td></td>\n",
       "    </tr>\n",
       "    <tr>\n",
       "      <th>25</th>\n",
       "      <td>1.491403</td>\n",
       "      <td>1.546280</td>\n",
       "      <td>X</td>\n",
       "      <td></td>\n",
       "      <td></td>\n",
       "    </tr>\n",
       "    <tr>\n",
       "      <th>26</th>\n",
       "      <td>1.546280</td>\n",
       "      <td>1.645639</td>\n",
       "      <td>a</td>\n",
       "      <td>+nas</td>\n",
       "      <td>1</td>\n",
       "    </tr>\n",
       "    <tr>\n",
       "      <th>27</th>\n",
       "      <td>1.645639</td>\n",
       "      <td>1.724730</td>\n",
       "      <td>N</td>\n",
       "      <td></td>\n",
       "      <td></td>\n",
       "    </tr>\n",
       "    <tr>\n",
       "      <th>28</th>\n",
       "      <td>1.724730</td>\n",
       "      <td>1.746975</td>\n",
       "      <td>k</td>\n",
       "      <td>+nas</td>\n",
       "      <td></td>\n",
       "    </tr>\n",
       "    <tr>\n",
       "      <th>29</th>\n",
       "      <td>1.746975</td>\n",
       "      <td>1.765265</td>\n",
       "      <td>!k</td>\n",
       "      <td></td>\n",
       "      <td></td>\n",
       "    </tr>\n",
       "    <tr>\n",
       "      <th>30</th>\n",
       "      <td>1.765265</td>\n",
       "      <td>1.841390</td>\n",
       "      <td>kasp</td>\n",
       "      <td></td>\n",
       "      <td></td>\n",
       "    </tr>\n",
       "    <tr>\n",
       "      <th>31</th>\n",
       "      <td>1.841390</td>\n",
       "      <td>1.898277</td>\n",
       "      <td>.</td>\n",
       "      <td></td>\n",
       "      <td></td>\n",
       "    </tr>\n",
       "  </tbody>\n",
       "</table>\n",
       "</div>"
      ],
      "text/plain": [
       "     t_start    t_stop phoneme auxiliary1 auxiliary2\n",
       "0   0.080109  0.119160      _t                      \n",
       "1   0.119160  0.144370      !t       +asp           \n",
       "2   0.144370  0.244223      E6                      \n",
       "3   0.244223  0.348031       l                      \n",
       "4   0.348031  0.427091       a                     2\n",
       "5   0.427091  0.509149       p                      \n",
       "6   0.509149  0.551660      !p        +na           \n",
       "7   0.551660  0.602575       m       +sil           \n",
       "8   0.602575  0.698978       l                      \n",
       "9   0.698978  0.768183       i                      \n",
       "10  0.768183  0.802292               +hoe           \n",
       "11  0.802292  0.846286       t                      \n",
       "12  0.846286  0.865565      !t                      \n",
       "13  0.865565  0.903133       a       +lar           \n",
       "14  0.903133  0.938230               -lar           \n",
       "15  0.938230  0.981748       f                      \n",
       "16  0.981748  1.025743       d       -sth           \n",
       "17  1.025743  1.044033      !d                      \n",
       "18  1.044033  1.081601       I                      \n",
       "19  1.081601  1.146357       m                      \n",
       "20  1.146357  1.192329      aI       +lar          3\n",
       "21  1.192329  1.331737               -lar           \n",
       "22  1.331737  1.343601       s       +sth           \n",
       "23  1.343601  1.392539               -sth           \n",
       "24  1.392539  1.491403       S                      \n",
       "25  1.491403  1.546280       X                      \n",
       "26  1.546280  1.645639       a       +nas          1\n",
       "27  1.645639  1.724730       N                      \n",
       "28  1.724730  1.746975       k       +nas           \n",
       "29  1.746975  1.765265      !k                      \n",
       "30  1.765265  1.841390    kasp                      \n",
       "31  1.841390  1.898277       .                      "
      ]
     },
     "execution_count": 79,
     "metadata": {},
     "output_type": "execute_result"
    }
   ],
   "source": [
    "rec.df_tags"
   ]
  },
  {
   "cell_type": "code",
   "execution_count": 73,
   "metadata": {},
   "outputs": [
    {
     "data": {
      "text/plain": [
       "array([[0.00243416, 0.00271027, 0.00306667, 0.00309182, 0.00314864,\n",
       "        0.00304704, 0.00302753, 0.00295055, 0.0029202 , 0.00288891,\n",
       "        0.00279217, 0.00784564, 0.00868653, 0.01118752, 0.0167588 ,\n",
       "        0.04087546, 0.06284276, 0.07048377, 0.08972829, 0.10098641,\n",
       "        0.11648033, 0.13322918, 0.13981375, 0.14993617, 0.15181586,\n",
       "        0.16090477, 0.16641779, 0.1700869 , 0.17735964, 0.1796199 ,\n",
       "        0.18724819, 0.19297765, 0.19496973, 0.21892469, 0.23326932,\n",
       "        0.2427478 , 0.25612807, 0.26207018, 0.26981494, 0.27261353,\n",
       "        0.27993122, 0.2767112 , 0.2734703 , 0.27111176, 0.2663872 ,\n",
       "        0.26477802, 0.25914028, 0.2521647 , 0.24604148, 0.22271398,\n",
       "        0.20007773, 0.18268217, 0.15273689, 0.12677819, 0.10309814,\n",
       "        0.08875966, 0.0743122 , 0.08123636, 0.0929839 , 0.10468487,\n",
       "        0.11438068, 0.12380165, 0.13331604, 0.1403715 , 0.14686309,\n",
       "        0.15564919, 0.16361684, 0.1717209 , 0.17994352, 0.18814436,\n",
       "        0.19325577, 0.1939485 , 0.19469856, 0.1949024 , 0.19396651,\n",
       "        0.19114032, 0.18756106, 0.18248658, 0.17707163, 0.17253101,\n",
       "        0.17158887, 0.16855073, 0.16668312, 0.16372758, 0.160068  ,\n",
       "        0.1532461 , 0.14634879, 0.13970914, 0.13037072, 0.12164947,\n",
       "        0.11444378, 0.10894414, 0.10534971, 0.10358965, 0.10114956,\n",
       "        0.09942824, 0.09135124, 0.08197916, 0.06929261, 0.05531649,\n",
       "        0.03678913, 0.02278407, 0.01335042, 0.01124871, 0.01894601,\n",
       "        0.04480693, 0.06612556, 0.08974031, 0.1087446 , 0.12520592,\n",
       "        0.14490373, 0.15235896, 0.15437272, 0.15459125, 0.1546802 ,\n",
       "        0.15473671, 0.15480061, 0.1549041 , 0.1549325 , 0.15487956,\n",
       "        0.154052  , 0.14857626, 0.14038144, 0.12660033, 0.111097  ,\n",
       "        0.09257489, 0.05720129, 0.0343095 , 0.03583352, 0.04906725,\n",
       "        0.05722561, 0.06089864, 0.06978425, 0.07884341, 0.08723093,\n",
       "        0.09068559, 0.0973243 , 0.10030725, 0.10105699, 0.10128842,\n",
       "        0.10250201, 0.10217827, 0.10208195, 0.10149133, 0.09789025,\n",
       "        0.09163399, 0.08662032, 0.08397152, 0.07670346, 0.06862058,\n",
       "        0.0670331 , 0.06939515, 0.06809417, 0.07030048, 0.10152351,\n",
       "        0.11151376, 0.12803777, 0.14698592, 0.15352048, 0.17179063,\n",
       "        0.18251508, 0.19570255, 0.20810479, 0.21333888, 0.22453345,\n",
       "        0.2324499 , 0.23533273, 0.23883043, 0.23886299, 0.23872608,\n",
       "        0.22811855, 0.22375107, 0.21424645, 0.20181802, 0.1970589 ,\n",
       "        0.1816647 , 0.17122535, 0.15634988, 0.13995083, 0.1326342 ,\n",
       "        0.11307227, 0.09516533, 0.08166593, 0.06796076, 0.06260774,\n",
       "        0.05800176, 0.0564654 , 0.05862801, 0.06051533, 0.06107935,\n",
       "        0.06104208, 0.06018884, 0.05922365, 0.05824425, 0.05702185,\n",
       "        0.05526331, 0.05435455, 0.05307538, 0.05155966, 0.04600205,\n",
       "        0.04222285, 0.04290981, 0.05279035, 0.05013243, 0.05870445,\n",
       "        0.05964437, 0.06649943, 0.06819662, 0.07337479, 0.07470358,\n",
       "        0.0786285 , 0.07963184, 0.08328184, 0.08388975, 0.08646812,\n",
       "        0.08721211, 0.08932713, 0.0881957 , 0.08282975, 0.08221134,\n",
       "        0.07648455, 0.07535625, 0.07075919, 0.06944462, 0.06459246,\n",
       "        0.06319194, 0.05819537, 0.05669023, 0.05108362, 0.05000083,\n",
       "        0.04533973, 0.04385113, 0.03868452, 0.03694617, 0.03081128,\n",
       "        0.03005381, 0.02317398, 0.02210861, 0.01553011, 0.01374073,\n",
       "        0.00998194, 0.00875781, 0.00856898, 0.00865763, 0.00873015,\n",
       "        0.00880962, 0.00887612, 0.00901079, 0.00903478, 0.00903564,\n",
       "        0.00904089, 0.00723281, 0.00637699, 0.00536425, 0.00444052,\n",
       "        0.00413146, 0.00401288, 0.00394072, 0.00379458, 0.00358941,\n",
       "        0.0034335 , 0.00329166, 0.00314977, 0.00279172, 0.00279844,\n",
       "        0.00312049, 0.00343044, 0.00349908, 0.00341338, 0.00327878,\n",
       "        0.00318372, 0.00317397, 0.00322299, 0.00339011, 0.0036959 ,\n",
       "        0.00397683, 0.00401218, 0.00398347]], dtype=float32)"
      ]
     },
     "execution_count": 73,
     "metadata": {},
     "output_type": "execute_result"
    }
   ],
   "source": [
    "rec.rms"
   ]
  },
  {
   "cell_type": "code",
   "execution_count": 129,
   "metadata": {},
   "outputs": [
    {
     "data": {
      "text/plain": [
       "<matplotlib.axes._subplots.AxesSubplot at 0x13c831f28>"
      ]
     },
     "execution_count": 129,
     "metadata": {},
     "output_type": "execute_result"
    },
    {
     "data": {
      "image/png": "[encoded data removed]",
      "text/plain": [
       "<Figure size 432x288 with 2 Axes>"
      ]
     },
     "metadata": {
      "needs_background": "light"
     },
     "output_type": "display_data"
    }
   ],
   "source": [
    "sns.heatmap(rec.get_mfcc())"
   ]
  },
  {
   "cell_type": "code",
   "execution_count": 109,
   "metadata": {},
   "outputs": [
    {
     "data": {
      "text/plain": [
       "<matplotlib.axes._subplots.AxesSubplot at 0x13a9e67b8>"
      ]
     },
     "execution_count": 109,
     "metadata": {},
     "output_type": "execute_result"
    },
    {
     "data": {
      "image/png": "[encoded data removed]",
      "text/plain": [
       "<Figure size 432x288 with 2 Axes>"
      ]
     },
     "metadata": {
      "needs_background": "light"
     },
     "output_type": "display_data"
    }
   ],
   "source": [
    "pitch,mag = librosa.core.piptrack(rec.raw_signal,hop_length=128)\n",
    "\n",
    "sns.heatmap((mag+0.000001)/np.sum((mag+0.000001),axis=0))"
   ]
  },
  {
   "cell_type": "code",
   "execution_count": 126,
   "metadata": {},
   "outputs": [
    {
     "data": {
      "text/plain": [
       "[<matplotlib.lines.Line2D at 0x13b795d30>]"
      ]
     },
     "execution_count": 126,
     "metadata": {},
     "output_type": "execute_result"
    },
    {
     "data": {
      "image/png": "[encoded data removed]",
      "text/plain": [
       "<Figure size 432x288 with 1 Axes>"
      ]
     },
     "metadata": {
      "needs_background": "light"
     },
     "output_type": "display_data"
    }
   ],
   "source": [
    "plt.plot(rec.mean_pitch(rec.raw_signal))"
   ]
  },
  {
   "cell_type": "code",
   "execution_count": 124,
   "metadata": {},
   "outputs": [
    {
     "data": {
      "text/plain": [
       "[<matplotlib.lines.Line2D at 0x13ba4e6a0>]"
      ]
     },
     "execution_count": 124,
     "metadata": {},
     "output_type": "execute_result"
    },
    {
     "data": {
      "image/png": "[encoded data removed]",
      "text/plain": [
       "<Figure size 432x288 with 1 Axes>"
      ]
     },
     "metadata": {
      "needs_background": "light"
     },
     "output_type": "display_data"
    }
   ],
   "source": [
    "plt.plot(np.mean(librosa.core.piptrack(rec.raw_signal,hop_length=128)[0],axis=0))"
   ]
  },
  {
   "cell_type": "code",
   "execution_count": null,
   "metadata": {},
   "outputs": [],
   "source": []
  }
 ],
 "metadata": {
  "kernelspec": {
   "display_name": "Python 3",
   "language": "python",
   "name": "python3"
  },
  "language_info": {
   "codemirror_mode": {
    "name": "ipython",
    "version": 3
   },
   "file_extension": ".py",
   "mimetype": "text/x-python",
   "name": "python",
   "nbconvert_exporter": "python",
   "pygments_lexer": "ipython3",
   "version": "3.7.0"
  }
 },
 "nbformat": 4,
 "nbformat_minor": 2
}
