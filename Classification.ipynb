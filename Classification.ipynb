{
 "cells": [
  {
   "cell_type": "code",
   "execution_count": 91,
   "metadata": {},
   "outputs": [
    {
     "name": "stdout",
     "output_type": "stream",
     "text": [
      "The autoreload extension is already loaded. To reload it, use:\n",
      "  %reload_ext autoreload\n"
     ]
    }
   ],
   "source": [
    "%load_ext autoreload\n",
    "%autoreload 2\n",
    "\n",
    "import numpy as np\n",
    "import pandas as pd\n",
    "from tqdm import tqdm_notebook as tqdm\n",
    "\n",
    "import matplotlib.pyplot as plt\n",
    "import seaborn as sns\n",
    "sns.set(font='serif')\n",
    "%matplotlib inline\n",
    "\n",
    "import os, re, string, itertools\n",
    "\n",
    "from recording import Recording\n",
    "from neural_net import MultiLayerPerceptron\n",
    "from auxiliary import *\n",
    "\n",
    "from collections import Counter\n",
    "\n",
    "from sklearn.linear_model import LogisticRegression\n",
    "from sklearn.metrics import accuracy_score, confusion_matrix\n",
    "from sklearn.preprocessing import StandardScaler\n",
    "\n",
    "import keras "
   ]
  },
  {
   "cell_type": "code",
   "execution_count": 2,
   "metadata": {},
   "outputs": [],
   "source": [
    "dh = DataHandler()"
   ]
  },
  {
   "cell_type": "code",
   "execution_count": 3,
   "metadata": {},
   "outputs": [],
   "source": [
    "def train_test_split(df,speaker_id):\n",
    "    X_train = np.stack(df[df.speaker_id != speaker_id].feature_vec.tolist())\n",
    "    y_train = df[df.speaker_id != speaker_id].emotion_label.tolist()\n",
    "    X_test = np.stack(df[df.speaker_id == speaker_id].feature_vec.tolist())\n",
    "    y_test = df[df.speaker_id == speaker_id].emotion_label.tolist()\n",
    "    return X_train, X_test, y_train, y_test"
   ]
  },
  {
   "cell_type": "markdown",
   "metadata": {},
   "source": [
    "# Condition 1\n",
    "- Global features (averaged features over time)\n",
    "- Train a single classifier"
   ]
  },
  {
   "cell_type": "code",
   "execution_count": 4,
   "metadata": {},
   "outputs": [
    {
     "data": {
      "application/vnd.jupyter.widget-view+json": {
       "model_id": "5fb1a6545b5742998ced5e0fad541688",
       "version_major": 2,
       "version_minor": 0
      },
      "text/plain": [
       "HBox(children=(IntProgress(value=0, max=535), HTML(value='')))"
      ]
     },
     "metadata": {},
     "output_type": "display_data"
    },
    {
     "name": "stdout",
     "output_type": "stream",
     "text": [
      "Excluded 08a01Ab (empty tag-file)\n",
      "Excluded 08a01Wa (empty tag-file)\n",
      "\n"
     ]
    }
   ],
   "source": [
    "df_1 = dh.build_feature_data(condition=1)"
   ]
  },
  {
   "cell_type": "code",
   "execution_count": 5,
   "metadata": {},
   "outputs": [
    {
     "data": {
      "text/html": [
       "<div>\n",
       "<style scoped>\n",
       "    .dataframe tbody tr th:only-of-type {\n",
       "        vertical-align: middle;\n",
       "    }\n",
       "\n",
       "    .dataframe tbody tr th {\n",
       "        vertical-align: top;\n",
       "    }\n",
       "\n",
       "    .dataframe thead th {\n",
       "        text-align: right;\n",
       "    }\n",
       "</style>\n",
       "<table border=\"1\" class=\"dataframe\">\n",
       "  <thead>\n",
       "    <tr style=\"text-align: right;\">\n",
       "      <th></th>\n",
       "      <th>ID</th>\n",
       "      <th>feature_vec</th>\n",
       "      <th>sex</th>\n",
       "      <th>speaker_id</th>\n",
       "      <th>age</th>\n",
       "      <th>emotion_name</th>\n",
       "      <th>emotion_label</th>\n",
       "    </tr>\n",
       "  </thead>\n",
       "  <tbody>\n",
       "    <tr>\n",
       "      <th>0</th>\n",
       "      <td>03a01Fa</td>\n",
       "      <td>[-281.7693789658906, 115.77593080338801, -34.6...</td>\n",
       "      <td>m</td>\n",
       "      <td>03</td>\n",
       "      <td>31</td>\n",
       "      <td>happiness</td>\n",
       "      <td>4</td>\n",
       "    </tr>\n",
       "    <tr>\n",
       "      <th>1</th>\n",
       "      <td>03a01Nc</td>\n",
       "      <td>[-265.01092879111286, 143.43997488641665, -29....</td>\n",
       "      <td>m</td>\n",
       "      <td>03</td>\n",
       "      <td>31</td>\n",
       "      <td>neutral</td>\n",
       "      <td>5</td>\n",
       "    </tr>\n",
       "    <tr>\n",
       "      <th>2</th>\n",
       "      <td>03a01Wa</td>\n",
       "      <td>[-231.12855862566673, 92.83604677664029, -65.2...</td>\n",
       "      <td>m</td>\n",
       "      <td>03</td>\n",
       "      <td>31</td>\n",
       "      <td>anger</td>\n",
       "      <td>2</td>\n",
       "    </tr>\n",
       "    <tr>\n",
       "      <th>3</th>\n",
       "      <td>03a02Fc</td>\n",
       "      <td>[-258.335947603345, 89.06959007175533, -35.515...</td>\n",
       "      <td>m</td>\n",
       "      <td>03</td>\n",
       "      <td>31</td>\n",
       "      <td>happiness</td>\n",
       "      <td>4</td>\n",
       "    </tr>\n",
       "    <tr>\n",
       "      <th>4</th>\n",
       "      <td>03a02Nc</td>\n",
       "      <td>[-246.59932119184973, 133.65802155226476, -22....</td>\n",
       "      <td>m</td>\n",
       "      <td>03</td>\n",
       "      <td>31</td>\n",
       "      <td>neutral</td>\n",
       "      <td>5</td>\n",
       "    </tr>\n",
       "  </tbody>\n",
       "</table>\n",
       "</div>"
      ],
      "text/plain": [
       "        ID                                        feature_vec sex speaker_id  \\\n",
       "0  03a01Fa  [-281.7693789658906, 115.77593080338801, -34.6...   m         03   \n",
       "1  03a01Nc  [-265.01092879111286, 143.43997488641665, -29....   m         03   \n",
       "2  03a01Wa  [-231.12855862566673, 92.83604677664029, -65.2...   m         03   \n",
       "3  03a02Fc  [-258.335947603345, 89.06959007175533, -35.515...   m         03   \n",
       "4  03a02Nc  [-246.59932119184973, 133.65802155226476, -22....   m         03   \n",
       "\n",
       "   age emotion_name  emotion_label  \n",
       "0   31    happiness              4  \n",
       "1   31      neutral              5  \n",
       "2   31        anger              2  \n",
       "3   31    happiness              4  \n",
       "4   31      neutral              5  "
      ]
     },
     "execution_count": 5,
     "metadata": {},
     "output_type": "execute_result"
    }
   ],
   "source": [
    "df_1.head()"
   ]
  },
  {
   "cell_type": "code",
   "execution_count": 198,
   "metadata": {},
   "outputs": [],
   "source": [
    "def get_class_weights(y):\n",
    "    counter = Counter(y)\n",
    "    majority = max(counter.values())\n",
    "    return  {cls: float(majority/count) for cls, count in counter.items()}"
   ]
  },
  {
   "cell_type": "code",
   "execution_count": 200,
   "metadata": {
    "scrolled": false
   },
   "outputs": [
    {
     "data": {
      "application/vnd.jupyter.widget-view+json": {
       "model_id": "10abe5dc37714ba09fe235973c79c268",
       "version_major": 2,
       "version_minor": 0
      },
      "text/plain": [
       "HBox(children=(IntProgress(value=0, max=10), HTML(value='')))"
      ]
     },
     "metadata": {},
     "output_type": "display_data"
    },
    {
     "data": {
      "application/vnd.jupyter.widget-view+json": {
       "model_id": "59ddb1c734da42ceb7bf57adf24f0602",
       "version_major": 2,
       "version_minor": 0
      },
      "text/plain": [
       "HBox(children=(IntProgress(value=0, max=10), HTML(value='')))"
      ]
     },
     "metadata": {},
     "output_type": "display_data"
    },
    {
     "data": {
      "application/vnd.jupyter.widget-view+json": {
       "model_id": "bb54486baf7647b3916b08892234a4b3",
       "version_major": 2,
       "version_minor": 0
      },
      "text/plain": [
       "HBox(children=(IntProgress(value=0, max=10), HTML(value='')))"
      ]
     },
     "metadata": {},
     "output_type": "display_data"
    },
    {
     "data": {
      "application/vnd.jupyter.widget-view+json": {
       "model_id": "a9fcce131d3743a5997e09a5a32155e8",
       "version_major": 2,
       "version_minor": 0
      },
      "text/plain": [
       "HBox(children=(IntProgress(value=0, max=10), HTML(value='')))"
      ]
     },
     "metadata": {},
     "output_type": "display_data"
    },
    {
     "data": {
      "application/vnd.jupyter.widget-view+json": {
       "model_id": "f6d108a0da1b43e2b12e9afffbf5c1bb",
       "version_major": 2,
       "version_minor": 0
      },
      "text/plain": [
       "HBox(children=(IntProgress(value=0, max=10), HTML(value='')))"
      ]
     },
     "metadata": {},
     "output_type": "display_data"
    },
    {
     "data": {
      "text/html": [
       "<div>\n",
       "<style scoped>\n",
       "    .dataframe tbody tr th:only-of-type {\n",
       "        vertical-align: middle;\n",
       "    }\n",
       "\n",
       "    .dataframe tbody tr th {\n",
       "        vertical-align: top;\n",
       "    }\n",
       "\n",
       "    .dataframe thead th {\n",
       "        text-align: right;\n",
       "    }\n",
       "</style>\n",
       "<table border=\"1\" class=\"dataframe\">\n",
       "  <thead>\n",
       "    <tr style=\"text-align: right;\">\n",
       "      <th></th>\n",
       "      <th>score_run_1</th>\n",
       "      <th>cm_run_1</th>\n",
       "      <th>score_run_2</th>\n",
       "      <th>cm_run_2</th>\n",
       "      <th>score_run_3</th>\n",
       "      <th>cm_run_3</th>\n",
       "      <th>score_run_4</th>\n",
       "      <th>cm_run_4</th>\n",
       "      <th>score_run_5</th>\n",
       "      <th>cm_run_5</th>\n",
       "    </tr>\n",
       "    <tr>\n",
       "      <th>speaker</th>\n",
       "      <th></th>\n",
       "      <th></th>\n",
       "      <th></th>\n",
       "      <th></th>\n",
       "      <th></th>\n",
       "      <th></th>\n",
       "      <th></th>\n",
       "      <th></th>\n",
       "      <th></th>\n",
       "      <th></th>\n",
       "    </tr>\n",
       "  </thead>\n",
       "  <tbody>\n",
       "    <tr>\n",
       "      <th>03</th>\n",
       "      <td>0.612245</td>\n",
       "      <td>[[1, 0, 3, 0, 0, 0, 0], [0, 0, 0, 1, 0, 0, 0],...</td>\n",
       "      <td>0.653061</td>\n",
       "      <td>[[2, 0, 2, 0, 0, 0, 0], [0, 1, 0, 0, 0, 0, 0],...</td>\n",
       "      <td>0.530612</td>\n",
       "      <td>[[1, 0, 3, 0, 0, 0, 0], [0, 0, 0, 1, 0, 0, 0],...</td>\n",
       "      <td>0.551020</td>\n",
       "      <td>[[1, 0, 3, 0, 0, 0, 0], [0, 0, 0, 1, 0, 0, 0],...</td>\n",
       "      <td>0.551020</td>\n",
       "      <td>[[1, 0, 3, 0, 0, 0, 0], [0, 1, 0, 0, 0, 0, 0],...</td>\n",
       "    </tr>\n",
       "    <tr>\n",
       "      <th>08</th>\n",
       "      <td>0.535714</td>\n",
       "      <td>[[3, 0, 0, 0, 2, 0, 0], [0, 0, 0, 0, 0, 0, 0],...</td>\n",
       "      <td>0.589286</td>\n",
       "      <td>[[4, 0, 0, 0, 1, 0, 0], [0, 0, 0, 0, 0, 0, 0],...</td>\n",
       "      <td>0.571429</td>\n",
       "      <td>[[3, 0, 0, 0, 2, 0, 0], [0, 0, 0, 0, 0, 0, 0],...</td>\n",
       "      <td>0.571429</td>\n",
       "      <td>[[4, 0, 0, 0, 1, 0, 0], [0, 0, 0, 0, 0, 0, 0],...</td>\n",
       "      <td>0.535714</td>\n",
       "      <td>[[3, 0, 0, 0, 2, 0, 0], [0, 0, 0, 0, 0, 0, 0],...</td>\n",
       "    </tr>\n",
       "    <tr>\n",
       "      <th>09</th>\n",
       "      <td>0.488372</td>\n",
       "      <td>[[0, 0, 1, 0, 0, 0, 0], [0, 1, 5, 0, 2, 0, 0],...</td>\n",
       "      <td>0.558140</td>\n",
       "      <td>[[0, 0, 1, 0, 0, 0, 0], [0, 3, 3, 0, 2, 0, 0],...</td>\n",
       "      <td>0.581395</td>\n",
       "      <td>[[0, 0, 1, 0, 0, 0, 0], [0, 3, 5, 0, 0, 0, 0],...</td>\n",
       "      <td>0.488372</td>\n",
       "      <td>[[0, 0, 1, 0, 0, 0, 0], [1, 1, 3, 0, 3, 0, 0],...</td>\n",
       "      <td>0.558140</td>\n",
       "      <td>[[0, 0, 1, 0, 0, 0, 0], [0, 1, 5, 0, 2, 0, 0],...</td>\n",
       "    </tr>\n",
       "    <tr>\n",
       "      <th>10</th>\n",
       "      <td>0.578947</td>\n",
       "      <td>[[2, 5, 1, 0, 0, 0, 0], [0, 1, 0, 0, 0, 0, 0],...</td>\n",
       "      <td>0.552632</td>\n",
       "      <td>[[2, 4, 2, 0, 0, 0, 0], [0, 1, 0, 0, 0, 0, 0],...</td>\n",
       "      <td>0.657895</td>\n",
       "      <td>[[5, 1, 0, 0, 0, 1, 1], [0, 1, 0, 0, 0, 0, 0],...</td>\n",
       "      <td>0.710526</td>\n",
       "      <td>[[7, 0, 0, 0, 0, 0, 1], [0, 1, 0, 0, 0, 0, 0],...</td>\n",
       "      <td>0.605263</td>\n",
       "      <td>[[4, 3, 1, 0, 0, 0, 0], [0, 1, 0, 0, 0, 0, 0],...</td>\n",
       "    </tr>\n",
       "    <tr>\n",
       "      <th>11</th>\n",
       "      <td>0.490909</td>\n",
       "      <td>[[1, 0, 3, 1, 0, 2, 3], [0, 0, 0, 0, 0, 1, 1],...</td>\n",
       "      <td>0.509091</td>\n",
       "      <td>[[2, 0, 1, 2, 0, 2, 3], [0, 0, 0, 0, 0, 1, 1],...</td>\n",
       "      <td>0.490909</td>\n",
       "      <td>[[2, 0, 1, 3, 0, 2, 2], [0, 0, 0, 0, 0, 1, 1],...</td>\n",
       "      <td>0.454545</td>\n",
       "      <td>[[1, 0, 2, 3, 0, 2, 2], [0, 0, 0, 0, 0, 1, 1],...</td>\n",
       "      <td>0.545455</td>\n",
       "      <td>[[1, 0, 3, 2, 0, 2, 2], [0, 0, 0, 1, 0, 1, 0],...</td>\n",
       "    </tr>\n",
       "    <tr>\n",
       "      <th>12</th>\n",
       "      <td>0.685714</td>\n",
       "      <td>[[5, 1, 0, 0, 0, 0, 0], [0, 0, 0, 0, 0, 0, 2],...</td>\n",
       "      <td>0.628571</td>\n",
       "      <td>[[4, 1, 0, 0, 1, 0, 0], [0, 0, 0, 0, 0, 0, 2],...</td>\n",
       "      <td>0.628571</td>\n",
       "      <td>[[5, 1, 0, 0, 0, 0, 0], [0, 0, 0, 0, 0, 0, 2],...</td>\n",
       "      <td>0.628571</td>\n",
       "      <td>[[4, 1, 0, 0, 0, 0, 1], [0, 0, 0, 0, 0, 0, 2],...</td>\n",
       "      <td>0.714286</td>\n",
       "      <td>[[6, 0, 0, 0, 0, 0, 0], [0, 0, 0, 0, 0, 0, 2],...</td>\n",
       "    </tr>\n",
       "    <tr>\n",
       "      <th>13</th>\n",
       "      <td>0.721311</td>\n",
       "      <td>[[2, 1, 0, 1, 0, 0, 3], [0, 6, 0, 0, 0, 1, 1],...</td>\n",
       "      <td>0.704918</td>\n",
       "      <td>[[2, 2, 0, 0, 0, 0, 3], [0, 6, 0, 0, 0, 1, 1],...</td>\n",
       "      <td>0.655738</td>\n",
       "      <td>[[2, 1, 0, 1, 0, 0, 3], [1, 6, 0, 0, 0, 0, 1],...</td>\n",
       "      <td>0.672131</td>\n",
       "      <td>[[2, 1, 0, 1, 0, 0, 3], [0, 6, 0, 0, 0, 1, 1],...</td>\n",
       "      <td>0.655738</td>\n",
       "      <td>[[2, 1, 0, 1, 0, 0, 3], [0, 6, 0, 1, 0, 0, 1],...</td>\n",
       "    </tr>\n",
       "    <tr>\n",
       "      <th>14</th>\n",
       "      <td>0.565217</td>\n",
       "      <td>[[4, 2, 0, 4, 2, 0, 0], [1, 4, 0, 0, 0, 2, 1],...</td>\n",
       "      <td>0.608696</td>\n",
       "      <td>[[4, 1, 0, 4, 3, 0, 0], [1, 6, 0, 0, 0, 1, 0],...</td>\n",
       "      <td>0.623188</td>\n",
       "      <td>[[4, 2, 0, 4, 2, 0, 0], [0, 6, 0, 0, 0, 1, 1],...</td>\n",
       "      <td>0.695652</td>\n",
       "      <td>[[5, 0, 1, 4, 2, 0, 0], [1, 5, 0, 0, 0, 1, 1],...</td>\n",
       "      <td>0.608696</td>\n",
       "      <td>[[4, 1, 0, 5, 2, 0, 0], [1, 5, 0, 0, 0, 1, 1],...</td>\n",
       "    </tr>\n",
       "    <tr>\n",
       "      <th>15</th>\n",
       "      <td>0.464286</td>\n",
       "      <td>[[4, 1, 1, 0, 0, 1, 1], [2, 3, 0, 0, 0, 0, 0],...</td>\n",
       "      <td>0.464286</td>\n",
       "      <td>[[4, 0, 2, 0, 1, 1, 0], [2, 3, 0, 0, 0, 0, 0],...</td>\n",
       "      <td>0.464286</td>\n",
       "      <td>[[5, 1, 1, 0, 0, 1, 0], [1, 4, 0, 0, 0, 0, 0],...</td>\n",
       "      <td>0.500000</td>\n",
       "      <td>[[5, 1, 2, 0, 0, 0, 0], [1, 4, 0, 0, 0, 0, 0],...</td>\n",
       "      <td>0.500000</td>\n",
       "      <td>[[4, 2, 2, 0, 0, 0, 0], [1, 4, 0, 0, 0, 0, 0],...</td>\n",
       "    </tr>\n",
       "    <tr>\n",
       "      <th>16</th>\n",
       "      <td>0.464789</td>\n",
       "      <td>[[1, 0, 4, 0, 2, 0, 0], [1, 3, 6, 0, 1, 0, 0],...</td>\n",
       "      <td>0.464789</td>\n",
       "      <td>[[0, 0, 6, 0, 1, 0, 0], [0, 1, 7, 0, 3, 0, 0],...</td>\n",
       "      <td>0.492958</td>\n",
       "      <td>[[1, 0, 5, 0, 1, 0, 0], [0, 0, 9, 1, 1, 0, 0],...</td>\n",
       "      <td>0.478873</td>\n",
       "      <td>[[0, 0, 6, 0, 1, 0, 0], [1, 1, 5, 2, 2, 0, 0],...</td>\n",
       "      <td>0.549296</td>\n",
       "      <td>[[0, 0, 5, 0, 2, 0, 0], [2, 4, 4, 1, 0, 0, 0],...</td>\n",
       "    </tr>\n",
       "  </tbody>\n",
       "</table>\n",
       "</div>"
      ],
      "text/plain": [
       "         score_run_1                                           cm_run_1  \\\n",
       "speaker                                                                   \n",
       "03          0.612245  [[1, 0, 3, 0, 0, 0, 0], [0, 0, 0, 1, 0, 0, 0],...   \n",
       "08          0.535714  [[3, 0, 0, 0, 2, 0, 0], [0, 0, 0, 0, 0, 0, 0],...   \n",
       "09          0.488372  [[0, 0, 1, 0, 0, 0, 0], [0, 1, 5, 0, 2, 0, 0],...   \n",
       "10          0.578947  [[2, 5, 1, 0, 0, 0, 0], [0, 1, 0, 0, 0, 0, 0],...   \n",
       "11          0.490909  [[1, 0, 3, 1, 0, 2, 3], [0, 0, 0, 0, 0, 1, 1],...   \n",
       "12          0.685714  [[5, 1, 0, 0, 0, 0, 0], [0, 0, 0, 0, 0, 0, 2],...   \n",
       "13          0.721311  [[2, 1, 0, 1, 0, 0, 3], [0, 6, 0, 0, 0, 1, 1],...   \n",
       "14          0.565217  [[4, 2, 0, 4, 2, 0, 0], [1, 4, 0, 0, 0, 2, 1],...   \n",
       "15          0.464286  [[4, 1, 1, 0, 0, 1, 1], [2, 3, 0, 0, 0, 0, 0],...   \n",
       "16          0.464789  [[1, 0, 4, 0, 2, 0, 0], [1, 3, 6, 0, 1, 0, 0],...   \n",
       "\n",
       "         score_run_2                                           cm_run_2  \\\n",
       "speaker                                                                   \n",
       "03          0.653061  [[2, 0, 2, 0, 0, 0, 0], [0, 1, 0, 0, 0, 0, 0],...   \n",
       "08          0.589286  [[4, 0, 0, 0, 1, 0, 0], [0, 0, 0, 0, 0, 0, 0],...   \n",
       "09          0.558140  [[0, 0, 1, 0, 0, 0, 0], [0, 3, 3, 0, 2, 0, 0],...   \n",
       "10          0.552632  [[2, 4, 2, 0, 0, 0, 0], [0, 1, 0, 0, 0, 0, 0],...   \n",
       "11          0.509091  [[2, 0, 1, 2, 0, 2, 3], [0, 0, 0, 0, 0, 1, 1],...   \n",
       "12          0.628571  [[4, 1, 0, 0, 1, 0, 0], [0, 0, 0, 0, 0, 0, 2],...   \n",
       "13          0.704918  [[2, 2, 0, 0, 0, 0, 3], [0, 6, 0, 0, 0, 1, 1],...   \n",
       "14          0.608696  [[4, 1, 0, 4, 3, 0, 0], [1, 6, 0, 0, 0, 1, 0],...   \n",
       "15          0.464286  [[4, 0, 2, 0, 1, 1, 0], [2, 3, 0, 0, 0, 0, 0],...   \n",
       "16          0.464789  [[0, 0, 6, 0, 1, 0, 0], [0, 1, 7, 0, 3, 0, 0],...   \n",
       "\n",
       "         score_run_3                                           cm_run_3  \\\n",
       "speaker                                                                   \n",
       "03          0.530612  [[1, 0, 3, 0, 0, 0, 0], [0, 0, 0, 1, 0, 0, 0],...   \n",
       "08          0.571429  [[3, 0, 0, 0, 2, 0, 0], [0, 0, 0, 0, 0, 0, 0],...   \n",
       "09          0.581395  [[0, 0, 1, 0, 0, 0, 0], [0, 3, 5, 0, 0, 0, 0],...   \n",
       "10          0.657895  [[5, 1, 0, 0, 0, 1, 1], [0, 1, 0, 0, 0, 0, 0],...   \n",
       "11          0.490909  [[2, 0, 1, 3, 0, 2, 2], [0, 0, 0, 0, 0, 1, 1],...   \n",
       "12          0.628571  [[5, 1, 0, 0, 0, 0, 0], [0, 0, 0, 0, 0, 0, 2],...   \n",
       "13          0.655738  [[2, 1, 0, 1, 0, 0, 3], [1, 6, 0, 0, 0, 0, 1],...   \n",
       "14          0.623188  [[4, 2, 0, 4, 2, 0, 0], [0, 6, 0, 0, 0, 1, 1],...   \n",
       "15          0.464286  [[5, 1, 1, 0, 0, 1, 0], [1, 4, 0, 0, 0, 0, 0],...   \n",
       "16          0.492958  [[1, 0, 5, 0, 1, 0, 0], [0, 0, 9, 1, 1, 0, 0],...   \n",
       "\n",
       "         score_run_4                                           cm_run_4  \\\n",
       "speaker                                                                   \n",
       "03          0.551020  [[1, 0, 3, 0, 0, 0, 0], [0, 0, 0, 1, 0, 0, 0],...   \n",
       "08          0.571429  [[4, 0, 0, 0, 1, 0, 0], [0, 0, 0, 0, 0, 0, 0],...   \n",
       "09          0.488372  [[0, 0, 1, 0, 0, 0, 0], [1, 1, 3, 0, 3, 0, 0],...   \n",
       "10          0.710526  [[7, 0, 0, 0, 0, 0, 1], [0, 1, 0, 0, 0, 0, 0],...   \n",
       "11          0.454545  [[1, 0, 2, 3, 0, 2, 2], [0, 0, 0, 0, 0, 1, 1],...   \n",
       "12          0.628571  [[4, 1, 0, 0, 0, 0, 1], [0, 0, 0, 0, 0, 0, 2],...   \n",
       "13          0.672131  [[2, 1, 0, 1, 0, 0, 3], [0, 6, 0, 0, 0, 1, 1],...   \n",
       "14          0.695652  [[5, 0, 1, 4, 2, 0, 0], [1, 5, 0, 0, 0, 1, 1],...   \n",
       "15          0.500000  [[5, 1, 2, 0, 0, 0, 0], [1, 4, 0, 0, 0, 0, 0],...   \n",
       "16          0.478873  [[0, 0, 6, 0, 1, 0, 0], [1, 1, 5, 2, 2, 0, 0],...   \n",
       "\n",
       "         score_run_5                                           cm_run_5  \n",
       "speaker                                                                  \n",
       "03          0.551020  [[1, 0, 3, 0, 0, 0, 0], [0, 1, 0, 0, 0, 0, 0],...  \n",
       "08          0.535714  [[3, 0, 0, 0, 2, 0, 0], [0, 0, 0, 0, 0, 0, 0],...  \n",
       "09          0.558140  [[0, 0, 1, 0, 0, 0, 0], [0, 1, 5, 0, 2, 0, 0],...  \n",
       "10          0.605263  [[4, 3, 1, 0, 0, 0, 0], [0, 1, 0, 0, 0, 0, 0],...  \n",
       "11          0.545455  [[1, 0, 3, 2, 0, 2, 2], [0, 0, 0, 1, 0, 1, 0],...  \n",
       "12          0.714286  [[6, 0, 0, 0, 0, 0, 0], [0, 0, 0, 0, 0, 0, 2],...  \n",
       "13          0.655738  [[2, 1, 0, 1, 0, 0, 3], [0, 6, 0, 1, 0, 0, 1],...  \n",
       "14          0.608696  [[4, 1, 0, 5, 2, 0, 0], [1, 5, 0, 0, 0, 1, 1],...  \n",
       "15          0.500000  [[4, 2, 2, 0, 0, 0, 0], [1, 4, 0, 0, 0, 0, 0],...  \n",
       "16          0.549296  [[0, 0, 5, 0, 2, 0, 0], [2, 4, 4, 1, 0, 0, 0],...  "
      ]
     },
     "execution_count": 200,
     "metadata": {},
     "output_type": "execute_result"
    }
   ],
   "source": [
    "df_scores_1 = pd.DataFrame()\n",
    "for i in range(5):\n",
    "    scores, cms = [],[]\n",
    "    for speaker_id in tqdm(sorted(set(df_1.speaker_id))):\n",
    "        X_train, X_test, y_train, y_test = train_test_split(df_1,speaker_id)\n",
    "        y_train = one_hot_encode(y_train, 7)\n",
    "\n",
    "        scl = StandardScaler().fit(X_train)\n",
    "        X_train = scl.transform(X_train)\n",
    "        X_test = scl.transform(X_test)\n",
    "\n",
    "        model = MultiLayerPerceptron([61,96,32,7])\n",
    "        model.fit(X_train,y_train,epochs=100,val_data=(X_test,one_hot_encode(y_test,7)),class_weight=get_class_weights(df_1.emotion_label))\n",
    "        pred = model.predict(X_test)\n",
    "        scores.append(accuracy_score(y_test,pred))\n",
    "        cms.append(confusion_matrix(y_test,model.predict(X_test)))\n",
    "    df_scores_1['score_run_%i'%(i+1)] = scores\n",
    "    df_scores_1['cm_run_%i'%(i+1)] = cms\n",
    "    df_scores_1['speaker'] = sorted(set(df_1.speaker_id))\n",
    "\n",
    "df_scores_1 = df_scores_1.set_index('speaker')\n",
    "df_scores_1"
   ]
  },
  {
   "cell_type": "markdown",
   "metadata": {},
   "source": [
    "# Condition 2\n",
    "- Local features (features per phoneme)\n",
    "- Train a single classifier"
   ]
  },
  {
   "cell_type": "code",
   "execution_count": 110,
   "metadata": {},
   "outputs": [],
   "source": [
    "def aggregate_score(predictions,IDs,dh):\n",
    "    pred, labels = [],[]\n",
    "    for x in np.unique(IDs):\n",
    "        p = [predictions[i] for i in range(len(IDs)) if IDs[i] == x] \n",
    "        p = np.mean(p,axis=0)\n",
    "        pred.append(np.argmax(p))\n",
    "        labels.append(dh.emotion_from_ID(x))\n",
    "    return accuracy_score(pred,labels), pred, labels"
   ]
  },
  {
   "cell_type": "code",
   "execution_count": 16,
   "metadata": {
    "scrolled": true
   },
   "outputs": [
    {
     "data": {
      "application/vnd.jupyter.widget-view+json": {
       "model_id": "e47e8e1d4e764cf6aedeee4ede79d403",
       "version_major": 2,
       "version_minor": 0
      },
      "text/plain": [
       "HBox(children=(IntProgress(value=0, max=535), HTML(value='')))"
      ]
     },
     "metadata": {},
     "output_type": "display_data"
    },
    {
     "name": "stdout",
     "output_type": "stream",
     "text": [
      "Excluded 08a01Ab (empty tag-file)\n",
      "Excluded 08a01Wa (empty tag-file)\n",
      "\n"
     ]
    }
   ],
   "source": [
    "df_2 = dh.build_feature_data(condition=2)"
   ]
  },
  {
   "cell_type": "code",
   "execution_count": 212,
   "metadata": {
    "scrolled": false
   },
   "outputs": [
    {
     "data": {
      "application/vnd.jupyter.widget-view+json": {
       "model_id": "e68a247e58dd44089472189f0ae79d12",
       "version_major": 2,
       "version_minor": 0
      },
      "text/plain": [
       "HBox(children=(IntProgress(value=0, max=10), HTML(value='')))"
      ]
     },
     "metadata": {},
     "output_type": "display_data"
    },
    {
     "data": {
      "application/vnd.jupyter.widget-view+json": {
       "model_id": "8ee434904d35484fbdf1c32802a9e2a8",
       "version_major": 2,
       "version_minor": 0
      },
      "text/plain": [
       "HBox(children=(IntProgress(value=0, max=10), HTML(value='')))"
      ]
     },
     "metadata": {},
     "output_type": "display_data"
    },
    {
     "data": {
      "application/vnd.jupyter.widget-view+json": {
       "model_id": "df94a15d22524a93946b19252d16f8e0",
       "version_major": 2,
       "version_minor": 0
      },
      "text/plain": [
       "HBox(children=(IntProgress(value=0, max=10), HTML(value='')))"
      ]
     },
     "metadata": {},
     "output_type": "display_data"
    },
    {
     "data": {
      "application/vnd.jupyter.widget-view+json": {
       "model_id": "19084763f1d0445d8825ad7b872bc18b",
       "version_major": 2,
       "version_minor": 0
      },
      "text/plain": [
       "HBox(children=(IntProgress(value=0, max=10), HTML(value='')))"
      ]
     },
     "metadata": {},
     "output_type": "display_data"
    },
    {
     "data": {
      "application/vnd.jupyter.widget-view+json": {
       "model_id": "714f3856f30549db8ca413b49f2e4397",
       "version_major": 2,
       "version_minor": 0
      },
      "text/plain": [
       "HBox(children=(IntProgress(value=0, max=10), HTML(value='')))"
      ]
     },
     "metadata": {},
     "output_type": "display_data"
    },
    {
     "data": {
      "text/html": [
       "<div>\n",
       "<style scoped>\n",
       "    .dataframe tbody tr th:only-of-type {\n",
       "        vertical-align: middle;\n",
       "    }\n",
       "\n",
       "    .dataframe tbody tr th {\n",
       "        vertical-align: top;\n",
       "    }\n",
       "\n",
       "    .dataframe thead th {\n",
       "        text-align: right;\n",
       "    }\n",
       "</style>\n",
       "<table border=\"1\" class=\"dataframe\">\n",
       "  <thead>\n",
       "    <tr style=\"text-align: right;\">\n",
       "      <th></th>\n",
       "      <th>score_run_1</th>\n",
       "      <th>cm_run_1</th>\n",
       "      <th>score_run_2</th>\n",
       "      <th>cm_run_2</th>\n",
       "      <th>score_run_3</th>\n",
       "      <th>cm_run_3</th>\n",
       "      <th>score_run_4</th>\n",
       "      <th>cm_run_4</th>\n",
       "      <th>score_run_5</th>\n",
       "      <th>cm_run_5</th>\n",
       "    </tr>\n",
       "    <tr>\n",
       "      <th>speaker</th>\n",
       "      <th></th>\n",
       "      <th></th>\n",
       "      <th></th>\n",
       "      <th></th>\n",
       "      <th></th>\n",
       "      <th></th>\n",
       "      <th></th>\n",
       "      <th></th>\n",
       "      <th></th>\n",
       "      <th></th>\n",
       "    </tr>\n",
       "  </thead>\n",
       "  <tbody>\n",
       "    <tr>\n",
       "      <th>03</th>\n",
       "      <td>0.428571</td>\n",
       "      <td>[[1, 3, 0, 0, 0, 0, 0], [0, 1, 0, 0, 0, 0, 0],...</td>\n",
       "      <td>0.489796</td>\n",
       "      <td>[[2, 1, 1, 0, 0, 0, 0], [0, 1, 0, 0, 0, 0, 0],...</td>\n",
       "      <td>0.428571</td>\n",
       "      <td>[[0, 4, 0, 0, 0, 0, 0], [0, 1, 0, 0, 0, 0, 0],...</td>\n",
       "      <td>0.469388</td>\n",
       "      <td>[[3, 1, 0, 0, 0, 0, 0], [0, 1, 0, 0, 0, 0, 0],...</td>\n",
       "      <td>0.469388</td>\n",
       "      <td>[[1, 3, 0, 0, 0, 0, 0], [0, 1, 0, 0, 0, 0, 0],...</td>\n",
       "    </tr>\n",
       "    <tr>\n",
       "      <th>08</th>\n",
       "      <td>0.500000</td>\n",
       "      <td>[[2, 1, 0, 0, 2, 0, 0], [0, 0, 0, 0, 0, 0, 0],...</td>\n",
       "      <td>0.375000</td>\n",
       "      <td>[[0, 4, 1, 0, 0, 0, 0], [0, 0, 0, 0, 0, 0, 0],...</td>\n",
       "      <td>0.428571</td>\n",
       "      <td>[[2, 2, 1, 0, 0, 0, 0], [0, 0, 0, 0, 0, 0, 0],...</td>\n",
       "      <td>0.446429</td>\n",
       "      <td>[[2, 3, 0, 0, 0, 0, 0], [0, 0, 0, 0, 0, 0, 0],...</td>\n",
       "      <td>0.303571</td>\n",
       "      <td>[[2, 3, 0, 0, 0, 0, 0], [0, 0, 0, 0, 0, 0, 0],...</td>\n",
       "    </tr>\n",
       "    <tr>\n",
       "      <th>09</th>\n",
       "      <td>0.627907</td>\n",
       "      <td>[[1, 0, 0, 0, 0, 0, 0], [0, 8, 0, 0, 0, 0, 0],...</td>\n",
       "      <td>0.627907</td>\n",
       "      <td>[[0, 0, 0, 1, 0, 0, 0], [0, 7, 1, 0, 0, 0, 0],...</td>\n",
       "      <td>0.581395</td>\n",
       "      <td>[[0, 0, 0, 1, 0, 0, 0], [0, 6, 1, 0, 1, 0, 0],...</td>\n",
       "      <td>0.581395</td>\n",
       "      <td>[[0, 0, 0, 1, 0, 0, 0], [0, 8, 0, 0, 0, 0, 0],...</td>\n",
       "      <td>0.674419</td>\n",
       "      <td>[[1, 0, 0, 0, 0, 0, 0], [0, 8, 0, 0, 0, 0, 0],...</td>\n",
       "    </tr>\n",
       "    <tr>\n",
       "      <th>10</th>\n",
       "      <td>0.394737</td>\n",
       "      <td>[[1, 3, 0, 0, 0, 0, 4], [0, 1, 0, 0, 0, 0, 0],...</td>\n",
       "      <td>0.421053</td>\n",
       "      <td>[[1, 3, 0, 0, 0, 0, 4], [0, 1, 0, 0, 0, 0, 0],...</td>\n",
       "      <td>0.447368</td>\n",
       "      <td>[[0, 3, 0, 0, 1, 0, 4], [0, 1, 0, 0, 0, 0, 0],...</td>\n",
       "      <td>0.421053</td>\n",
       "      <td>[[1, 4, 0, 0, 0, 0, 3], [0, 1, 0, 0, 0, 0, 0],...</td>\n",
       "      <td>0.315789</td>\n",
       "      <td>[[0, 5, 0, 0, 0, 0, 3], [0, 1, 0, 0, 0, 0, 0],...</td>\n",
       "    </tr>\n",
       "    <tr>\n",
       "      <th>11</th>\n",
       "      <td>0.436364</td>\n",
       "      <td>[[1, 0, 0, 4, 0, 1, 4], [0, 1, 0, 0, 0, 0, 1],...</td>\n",
       "      <td>0.381818</td>\n",
       "      <td>[[0, 1, 0, 6, 0, 0, 3], [0, 1, 0, 0, 0, 0, 1],...</td>\n",
       "      <td>0.490909</td>\n",
       "      <td>[[0, 1, 0, 4, 0, 2, 3], [0, 1, 0, 0, 0, 0, 1],...</td>\n",
       "      <td>0.327273</td>\n",
       "      <td>[[1, 0, 0, 5, 0, 0, 4], [0, 1, 0, 0, 0, 0, 1],...</td>\n",
       "      <td>0.454545</td>\n",
       "      <td>[[1, 0, 0, 6, 0, 0, 3], [0, 1, 0, 0, 0, 0, 1],...</td>\n",
       "    </tr>\n",
       "    <tr>\n",
       "      <th>12</th>\n",
       "      <td>0.685714</td>\n",
       "      <td>[[1, 0, 1, 0, 0, 3, 1], [0, 1, 0, 0, 0, 0, 1],...</td>\n",
       "      <td>0.685714</td>\n",
       "      <td>[[2, 0, 0, 2, 1, 0, 1], [0, 1, 0, 1, 0, 0, 0],...</td>\n",
       "      <td>0.628571</td>\n",
       "      <td>[[2, 0, 0, 1, 0, 1, 2], [0, 1, 0, 0, 0, 0, 1],...</td>\n",
       "      <td>0.514286</td>\n",
       "      <td>[[1, 0, 0, 4, 0, 0, 1], [0, 0, 0, 2, 0, 0, 0],...</td>\n",
       "      <td>0.685714</td>\n",
       "      <td>[[2, 0, 0, 2, 0, 0, 2], [0, 1, 0, 0, 0, 0, 1],...</td>\n",
       "    </tr>\n",
       "    <tr>\n",
       "      <th>13</th>\n",
       "      <td>0.426230</td>\n",
       "      <td>[[0, 1, 1, 0, 0, 0, 5], [0, 6, 0, 0, 0, 0, 2],...</td>\n",
       "      <td>0.442623</td>\n",
       "      <td>[[1, 1, 0, 0, 0, 0, 5], [0, 6, 0, 0, 0, 0, 2],...</td>\n",
       "      <td>0.459016</td>\n",
       "      <td>[[0, 1, 1, 0, 0, 0, 5], [0, 5, 0, 0, 0, 0, 3],...</td>\n",
       "      <td>0.393443</td>\n",
       "      <td>[[0, 2, 1, 0, 0, 0, 4], [0, 8, 0, 0, 0, 0, 0],...</td>\n",
       "      <td>0.442623</td>\n",
       "      <td>[[0, 2, 0, 1, 0, 0, 4], [0, 6, 0, 1, 0, 0, 1],...</td>\n",
       "    </tr>\n",
       "    <tr>\n",
       "      <th>14</th>\n",
       "      <td>0.608696</td>\n",
       "      <td>[[1, 6, 0, 2, 3, 0, 0], [0, 8, 0, 0, 0, 0, 0],...</td>\n",
       "      <td>0.579710</td>\n",
       "      <td>[[0, 8, 0, 1, 3, 0, 0], [0, 8, 0, 0, 0, 0, 0],...</td>\n",
       "      <td>0.594203</td>\n",
       "      <td>[[0, 8, 0, 1, 3, 0, 0], [0, 8, 0, 0, 0, 0, 0],...</td>\n",
       "      <td>0.594203</td>\n",
       "      <td>[[0, 8, 1, 1, 2, 0, 0], [0, 8, 0, 0, 0, 0, 0],...</td>\n",
       "      <td>0.623188</td>\n",
       "      <td>[[1, 3, 0, 4, 4, 0, 0], [0, 8, 0, 0, 0, 0, 0],...</td>\n",
       "    </tr>\n",
       "    <tr>\n",
       "      <th>15</th>\n",
       "      <td>0.428571</td>\n",
       "      <td>[[3, 1, 0, 0, 0, 0, 4], [0, 3, 0, 0, 0, 0, 2],...</td>\n",
       "      <td>0.392857</td>\n",
       "      <td>[[3, 3, 0, 0, 0, 0, 2], [0, 5, 0, 0, 0, 0, 0],...</td>\n",
       "      <td>0.410714</td>\n",
       "      <td>[[1, 4, 0, 0, 0, 0, 3], [0, 5, 0, 0, 0, 0, 0],...</td>\n",
       "      <td>0.428571</td>\n",
       "      <td>[[2, 2, 0, 3, 0, 0, 1], [0, 4, 0, 1, 0, 0, 0],...</td>\n",
       "      <td>0.446429</td>\n",
       "      <td>[[4, 0, 0, 0, 0, 0, 4], [0, 3, 0, 0, 0, 0, 2],...</td>\n",
       "    </tr>\n",
       "    <tr>\n",
       "      <th>16</th>\n",
       "      <td>0.661972</td>\n",
       "      <td>[[1, 0, 5, 0, 1, 0, 0], [0, 11, 0, 0, 0, 0, 0]...</td>\n",
       "      <td>0.647887</td>\n",
       "      <td>[[2, 0, 5, 0, 0, 0, 0], [0, 11, 0, 0, 0, 0, 0]...</td>\n",
       "      <td>0.661972</td>\n",
       "      <td>[[2, 0, 5, 0, 0, 0, 0], [0, 11, 0, 0, 0, 0, 0]...</td>\n",
       "      <td>0.619718</td>\n",
       "      <td>[[1, 0, 6, 0, 0, 0, 0], [0, 11, 0, 0, 0, 0, 0]...</td>\n",
       "      <td>0.577465</td>\n",
       "      <td>[[0, 1, 6, 0, 0, 0, 0], [0, 11, 0, 0, 0, 0, 0]...</td>\n",
       "    </tr>\n",
       "  </tbody>\n",
       "</table>\n",
       "</div>"
      ],
      "text/plain": [
       "         score_run_1                                           cm_run_1  \\\n",
       "speaker                                                                   \n",
       "03          0.428571  [[1, 3, 0, 0, 0, 0, 0], [0, 1, 0, 0, 0, 0, 0],...   \n",
       "08          0.500000  [[2, 1, 0, 0, 2, 0, 0], [0, 0, 0, 0, 0, 0, 0],...   \n",
       "09          0.627907  [[1, 0, 0, 0, 0, 0, 0], [0, 8, 0, 0, 0, 0, 0],...   \n",
       "10          0.394737  [[1, 3, 0, 0, 0, 0, 4], [0, 1, 0, 0, 0, 0, 0],...   \n",
       "11          0.436364  [[1, 0, 0, 4, 0, 1, 4], [0, 1, 0, 0, 0, 0, 1],...   \n",
       "12          0.685714  [[1, 0, 1, 0, 0, 3, 1], [0, 1, 0, 0, 0, 0, 1],...   \n",
       "13          0.426230  [[0, 1, 1, 0, 0, 0, 5], [0, 6, 0, 0, 0, 0, 2],...   \n",
       "14          0.608696  [[1, 6, 0, 2, 3, 0, 0], [0, 8, 0, 0, 0, 0, 0],...   \n",
       "15          0.428571  [[3, 1, 0, 0, 0, 0, 4], [0, 3, 0, 0, 0, 0, 2],...   \n",
       "16          0.661972  [[1, 0, 5, 0, 1, 0, 0], [0, 11, 0, 0, 0, 0, 0]...   \n",
       "\n",
       "         score_run_2                                           cm_run_2  \\\n",
       "speaker                                                                   \n",
       "03          0.489796  [[2, 1, 1, 0, 0, 0, 0], [0, 1, 0, 0, 0, 0, 0],...   \n",
       "08          0.375000  [[0, 4, 1, 0, 0, 0, 0], [0, 0, 0, 0, 0, 0, 0],...   \n",
       "09          0.627907  [[0, 0, 0, 1, 0, 0, 0], [0, 7, 1, 0, 0, 0, 0],...   \n",
       "10          0.421053  [[1, 3, 0, 0, 0, 0, 4], [0, 1, 0, 0, 0, 0, 0],...   \n",
       "11          0.381818  [[0, 1, 0, 6, 0, 0, 3], [0, 1, 0, 0, 0, 0, 1],...   \n",
       "12          0.685714  [[2, 0, 0, 2, 1, 0, 1], [0, 1, 0, 1, 0, 0, 0],...   \n",
       "13          0.442623  [[1, 1, 0, 0, 0, 0, 5], [0, 6, 0, 0, 0, 0, 2],...   \n",
       "14          0.579710  [[0, 8, 0, 1, 3, 0, 0], [0, 8, 0, 0, 0, 0, 0],...   \n",
       "15          0.392857  [[3, 3, 0, 0, 0, 0, 2], [0, 5, 0, 0, 0, 0, 0],...   \n",
       "16          0.647887  [[2, 0, 5, 0, 0, 0, 0], [0, 11, 0, 0, 0, 0, 0]...   \n",
       "\n",
       "         score_run_3                                           cm_run_3  \\\n",
       "speaker                                                                   \n",
       "03          0.428571  [[0, 4, 0, 0, 0, 0, 0], [0, 1, 0, 0, 0, 0, 0],...   \n",
       "08          0.428571  [[2, 2, 1, 0, 0, 0, 0], [0, 0, 0, 0, 0, 0, 0],...   \n",
       "09          0.581395  [[0, 0, 0, 1, 0, 0, 0], [0, 6, 1, 0, 1, 0, 0],...   \n",
       "10          0.447368  [[0, 3, 0, 0, 1, 0, 4], [0, 1, 0, 0, 0, 0, 0],...   \n",
       "11          0.490909  [[0, 1, 0, 4, 0, 2, 3], [0, 1, 0, 0, 0, 0, 1],...   \n",
       "12          0.628571  [[2, 0, 0, 1, 0, 1, 2], [0, 1, 0, 0, 0, 0, 1],...   \n",
       "13          0.459016  [[0, 1, 1, 0, 0, 0, 5], [0, 5, 0, 0, 0, 0, 3],...   \n",
       "14          0.594203  [[0, 8, 0, 1, 3, 0, 0], [0, 8, 0, 0, 0, 0, 0],...   \n",
       "15          0.410714  [[1, 4, 0, 0, 0, 0, 3], [0, 5, 0, 0, 0, 0, 0],...   \n",
       "16          0.661972  [[2, 0, 5, 0, 0, 0, 0], [0, 11, 0, 0, 0, 0, 0]...   \n",
       "\n",
       "         score_run_4                                           cm_run_4  \\\n",
       "speaker                                                                   \n",
       "03          0.469388  [[3, 1, 0, 0, 0, 0, 0], [0, 1, 0, 0, 0, 0, 0],...   \n",
       "08          0.446429  [[2, 3, 0, 0, 0, 0, 0], [0, 0, 0, 0, 0, 0, 0],...   \n",
       "09          0.581395  [[0, 0, 0, 1, 0, 0, 0], [0, 8, 0, 0, 0, 0, 0],...   \n",
       "10          0.421053  [[1, 4, 0, 0, 0, 0, 3], [0, 1, 0, 0, 0, 0, 0],...   \n",
       "11          0.327273  [[1, 0, 0, 5, 0, 0, 4], [0, 1, 0, 0, 0, 0, 1],...   \n",
       "12          0.514286  [[1, 0, 0, 4, 0, 0, 1], [0, 0, 0, 2, 0, 0, 0],...   \n",
       "13          0.393443  [[0, 2, 1, 0, 0, 0, 4], [0, 8, 0, 0, 0, 0, 0],...   \n",
       "14          0.594203  [[0, 8, 1, 1, 2, 0, 0], [0, 8, 0, 0, 0, 0, 0],...   \n",
       "15          0.428571  [[2, 2, 0, 3, 0, 0, 1], [0, 4, 0, 1, 0, 0, 0],...   \n",
       "16          0.619718  [[1, 0, 6, 0, 0, 0, 0], [0, 11, 0, 0, 0, 0, 0]...   \n",
       "\n",
       "         score_run_5                                           cm_run_5  \n",
       "speaker                                                                  \n",
       "03          0.469388  [[1, 3, 0, 0, 0, 0, 0], [0, 1, 0, 0, 0, 0, 0],...  \n",
       "08          0.303571  [[2, 3, 0, 0, 0, 0, 0], [0, 0, 0, 0, 0, 0, 0],...  \n",
       "09          0.674419  [[1, 0, 0, 0, 0, 0, 0], [0, 8, 0, 0, 0, 0, 0],...  \n",
       "10          0.315789  [[0, 5, 0, 0, 0, 0, 3], [0, 1, 0, 0, 0, 0, 0],...  \n",
       "11          0.454545  [[1, 0, 0, 6, 0, 0, 3], [0, 1, 0, 0, 0, 0, 1],...  \n",
       "12          0.685714  [[2, 0, 0, 2, 0, 0, 2], [0, 1, 0, 0, 0, 0, 1],...  \n",
       "13          0.442623  [[0, 2, 0, 1, 0, 0, 4], [0, 6, 0, 1, 0, 0, 1],...  \n",
       "14          0.623188  [[1, 3, 0, 4, 4, 0, 0], [0, 8, 0, 0, 0, 0, 0],...  \n",
       "15          0.446429  [[4, 0, 0, 0, 0, 0, 4], [0, 3, 0, 0, 0, 0, 2],...  \n",
       "16          0.577465  [[0, 1, 6, 0, 0, 0, 0], [0, 11, 0, 0, 0, 0, 0]...  "
      ]
     },
     "execution_count": 212,
     "metadata": {},
     "output_type": "execute_result"
    }
   ],
   "source": [
    "df_scores_2 = pd.DataFrame()\n",
    "for i in range(5):\n",
    "    scores, cms = [],[]\n",
    "    for speaker_id in tqdm(sorted(set(df_2.speaker_id))):\n",
    "        X_train, X_test, y_train, y_test = train_test_split(df_2,speaker_id)\n",
    "        y_train = one_hot_encode(y_train, 7)\n",
    "        X_train = np.squeeze(X_train)\n",
    "        X_test = np.squeeze(X_test)\n",
    "\n",
    "        scl = StandardScaler().fit(X_train)\n",
    "        X_train = scl.transform(X_train)\n",
    "        X_test = scl.transform(X_test)\n",
    "\n",
    "        model = MultiLayerPerceptron([61,96,32,7])\n",
    "        model.fit(X_train,y_train,epochs=200,val_data=(X_test,one_hot_encode(y_test,7)),class_weight=get_class_weights(df_2.emotion_label))\n",
    "\n",
    "        score,predictions,labels = aggregate_score(model.predict_proba(X_test).tolist(),\n",
    "                                            df_2[df_2.speaker_id == speaker_id].ID.tolist(),\n",
    "                                            dh)\n",
    "        scores.append(score)\n",
    "        cms.append(confusion_matrix(labels,predictions))\n",
    "        keras.backend.clear_session()\n",
    "    df_scores_2['score_run_%i'%(i+1)] = scores\n",
    "    df_scores_2['cm_run_%i'%(i+1)] = cms\n",
    "    df_scores_2['speaker'] = sorted(set(df_2.speaker_id))\n",
    "\n",
    "keras.backend.clear_session()\n",
    "    \n",
    "df_scores_2 = df_scores_2.set_index('speaker')\n",
    "df_scores_2"
   ]
  },
  {
   "cell_type": "markdown",
   "metadata": {},
   "source": [
    "# Condition 3\n",
    "- Local features (features per phoneme)\n",
    "- Train one classifier per phoneme"
   ]
  },
  {
   "cell_type": "code",
   "execution_count": 22,
   "metadata": {},
   "outputs": [
    {
     "data": {
      "text/plain": [
       "{'I': 1644, 'n': 1548, 'a': 1488, 't': 1271, 'm': 913, 's': 865}"
      ]
     },
     "execution_count": 22,
     "metadata": {},
     "output_type": "execute_result"
    }
   ],
   "source": [
    "valid_phonemes = list(''.join([string.ascii_letters,string.digits,'@']))\n",
    "df_3 = df_2[df_2.phoneme.isin(valid_phonemes)]\n",
    "common_phonemes = {phoneme: count for phoneme,count in Counter(df_3.phoneme).most_common(6)}\n",
    "df_3 = df_3[df_3.phoneme.isin(common_phonemes)]\n",
    "common_phonemes"
   ]
  },
  {
   "cell_type": "code",
   "execution_count": 206,
   "metadata": {
    "scrolled": false
   },
   "outputs": [
    {
     "data": {
      "application/vnd.jupyter.widget-view+json": {
       "model_id": "760716cb3a7b4d6e847944eca79ea87d",
       "version_major": 2,
       "version_minor": 0
      },
      "text/plain": [
       "HBox(children=(IntProgress(value=0, max=10), HTML(value='')))"
      ]
     },
     "metadata": {},
     "output_type": "display_data"
    },
    {
     "data": {
      "application/vnd.jupyter.widget-view+json": {
       "model_id": "dbb39ce48fd2496594691d7dc013c8e6",
       "version_major": 2,
       "version_minor": 0
      },
      "text/plain": [
       "HBox(children=(IntProgress(value=0, max=10), HTML(value='')))"
      ]
     },
     "metadata": {},
     "output_type": "display_data"
    },
    {
     "data": {
      "application/vnd.jupyter.widget-view+json": {
       "model_id": "36a51a5c895b4f07ac6a868cb55b1b20",
       "version_major": 2,
       "version_minor": 0
      },
      "text/plain": [
       "HBox(children=(IntProgress(value=0, max=10), HTML(value='')))"
      ]
     },
     "metadata": {},
     "output_type": "display_data"
    },
    {
     "data": {
      "application/vnd.jupyter.widget-view+json": {
       "model_id": "f3c9f55b44354526a70545e7d2a070df",
       "version_major": 2,
       "version_minor": 0
      },
      "text/plain": [
       "HBox(children=(IntProgress(value=0, max=10), HTML(value='')))"
      ]
     },
     "metadata": {},
     "output_type": "display_data"
    },
    {
     "data": {
      "application/vnd.jupyter.widget-view+json": {
       "model_id": "3d4750b58b45413abe8f3a964db1c623",
       "version_major": 2,
       "version_minor": 0
      },
      "text/plain": [
       "HBox(children=(IntProgress(value=0, max=10), HTML(value='')))"
      ]
     },
     "metadata": {},
     "output_type": "display_data"
    },
    {
     "data": {
      "text/html": [
       "<div>\n",
       "<style scoped>\n",
       "    .dataframe tbody tr th:only-of-type {\n",
       "        vertical-align: middle;\n",
       "    }\n",
       "\n",
       "    .dataframe tbody tr th {\n",
       "        vertical-align: top;\n",
       "    }\n",
       "\n",
       "    .dataframe thead th {\n",
       "        text-align: right;\n",
       "    }\n",
       "</style>\n",
       "<table border=\"1\" class=\"dataframe\">\n",
       "  <thead>\n",
       "    <tr style=\"text-align: right;\">\n",
       "      <th></th>\n",
       "      <th>score_run_1</th>\n",
       "      <th>cm_run_1</th>\n",
       "      <th>score_run_2</th>\n",
       "      <th>cm_run_2</th>\n",
       "      <th>score_run_3</th>\n",
       "      <th>cm_run_3</th>\n",
       "      <th>score_run_4</th>\n",
       "      <th>cm_run_4</th>\n",
       "      <th>score_run_5</th>\n",
       "      <th>cm_run_5</th>\n",
       "    </tr>\n",
       "    <tr>\n",
       "      <th>speaker</th>\n",
       "      <th></th>\n",
       "      <th></th>\n",
       "      <th></th>\n",
       "      <th></th>\n",
       "      <th></th>\n",
       "      <th></th>\n",
       "      <th></th>\n",
       "      <th></th>\n",
       "      <th></th>\n",
       "      <th></th>\n",
       "    </tr>\n",
       "  </thead>\n",
       "  <tbody>\n",
       "    <tr>\n",
       "      <th>03</th>\n",
       "      <td>0.693878</td>\n",
       "      <td>[[2, 0, 2, 0, 0, 0, 0], [1, 0, 0, 0, 0, 0, 0],...</td>\n",
       "      <td>0.632653</td>\n",
       "      <td>[[2, 0, 2, 0, 0, 0, 0], [1, 0, 0, 0, 0, 0, 0],...</td>\n",
       "      <td>0.632653</td>\n",
       "      <td>[[3, 0, 1, 0, 0, 0, 0], [0, 0, 0, 1, 0, 0, 0],...</td>\n",
       "      <td>0.714286</td>\n",
       "      <td>[[2, 0, 2, 0, 0, 0, 0], [0, 0, 0, 1, 0, 0, 0],...</td>\n",
       "      <td>0.653061</td>\n",
       "      <td>[[2, 0, 2, 0, 0, 0, 0], [0, 0, 0, 1, 0, 0, 0],...</td>\n",
       "    </tr>\n",
       "    <tr>\n",
       "      <th>08</th>\n",
       "      <td>0.357143</td>\n",
       "      <td>[[2, 2, 0, 0, 1, 0, 0], [0, 0, 0, 0, 0, 0, 0],...</td>\n",
       "      <td>0.392857</td>\n",
       "      <td>[[2, 2, 0, 0, 1, 0, 0], [0, 0, 0, 0, 0, 0, 0],...</td>\n",
       "      <td>0.375000</td>\n",
       "      <td>[[2, 1, 1, 0, 1, 0, 0], [0, 0, 0, 0, 0, 0, 0],...</td>\n",
       "      <td>0.357143</td>\n",
       "      <td>[[2, 2, 0, 0, 1, 0, 0], [0, 0, 0, 0, 0, 0, 0],...</td>\n",
       "      <td>0.375000</td>\n",
       "      <td>[[2, 3, 0, 0, 0, 0, 0], [0, 0, 0, 0, 0, 0, 0],...</td>\n",
       "    </tr>\n",
       "    <tr>\n",
       "      <th>09</th>\n",
       "      <td>0.604651</td>\n",
       "      <td>[[1, 0, 0, 0, 0, 0, 0], [0, 4, 4, 0, 0, 0, 0],...</td>\n",
       "      <td>0.558140</td>\n",
       "      <td>[[1, 0, 0, 0, 0, 0, 0], [0, 4, 4, 0, 0, 0, 0],...</td>\n",
       "      <td>0.581395</td>\n",
       "      <td>[[1, 0, 0, 0, 0, 0, 0], [0, 3, 4, 0, 1, 0, 0],...</td>\n",
       "      <td>0.558140</td>\n",
       "      <td>[[1, 0, 0, 0, 0, 0, 0], [0, 4, 4, 0, 0, 0, 0],...</td>\n",
       "      <td>0.604651</td>\n",
       "      <td>[[1, 0, 0, 0, 0, 0, 0], [0, 3, 4, 0, 1, 0, 0],...</td>\n",
       "    </tr>\n",
       "    <tr>\n",
       "      <th>10</th>\n",
       "      <td>0.684211</td>\n",
       "      <td>[[6, 1, 0, 0, 0, 0, 1], [0, 1, 0, 0, 0, 0, 0],...</td>\n",
       "      <td>0.605263</td>\n",
       "      <td>[[6, 1, 0, 0, 0, 0, 1], [0, 1, 0, 0, 0, 0, 0],...</td>\n",
       "      <td>0.578947</td>\n",
       "      <td>[[5, 1, 0, 1, 0, 0, 1], [0, 1, 0, 0, 0, 0, 0],...</td>\n",
       "      <td>0.631579</td>\n",
       "      <td>[[5, 1, 0, 1, 0, 0, 1], [0, 1, 0, 0, 0, 0, 0],...</td>\n",
       "      <td>0.578947</td>\n",
       "      <td>[[5, 1, 0, 0, 0, 0, 2], [0, 1, 0, 0, 0, 0, 0],...</td>\n",
       "    </tr>\n",
       "    <tr>\n",
       "      <th>11</th>\n",
       "      <td>0.545455</td>\n",
       "      <td>[[2, 0, 0, 0, 0, 6, 2], [0, 0, 0, 0, 0, 2, 0],...</td>\n",
       "      <td>0.490909</td>\n",
       "      <td>[[1, 0, 0, 2, 0, 5, 2], [0, 0, 0, 1, 0, 1, 0],...</td>\n",
       "      <td>0.472727</td>\n",
       "      <td>[[0, 0, 0, 2, 1, 5, 2], [0, 0, 0, 0, 0, 2, 0],...</td>\n",
       "      <td>0.527273</td>\n",
       "      <td>[[2, 0, 0, 0, 0, 7, 1], [0, 0, 0, 1, 0, 1, 0],...</td>\n",
       "      <td>0.563636</td>\n",
       "      <td>[[1, 0, 0, 1, 1, 7, 0], [0, 1, 0, 0, 0, 1, 0],...</td>\n",
       "    </tr>\n",
       "    <tr>\n",
       "      <th>12</th>\n",
       "      <td>0.600000</td>\n",
       "      <td>[[3, 0, 0, 0, 0, 2, 1], [1, 1, 0, 0, 0, 0, 0],...</td>\n",
       "      <td>0.600000</td>\n",
       "      <td>[[3, 0, 0, 0, 0, 2, 1], [0, 2, 0, 0, 0, 0, 0],...</td>\n",
       "      <td>0.657143</td>\n",
       "      <td>[[3, 0, 0, 0, 0, 2, 1], [0, 1, 0, 0, 0, 0, 1],...</td>\n",
       "      <td>0.657143</td>\n",
       "      <td>[[3, 0, 0, 1, 0, 1, 1], [0, 1, 1, 0, 0, 0, 0],...</td>\n",
       "      <td>0.542857</td>\n",
       "      <td>[[4, 0, 0, 0, 0, 1, 1], [0, 2, 0, 0, 0, 0, 0],...</td>\n",
       "    </tr>\n",
       "    <tr>\n",
       "      <th>13</th>\n",
       "      <td>0.524590</td>\n",
       "      <td>[[1, 1, 1, 0, 0, 0, 4], [0, 7, 0, 1, 0, 0, 0],...</td>\n",
       "      <td>0.524590</td>\n",
       "      <td>[[2, 0, 1, 0, 0, 0, 4], [0, 7, 0, 1, 0, 0, 0],...</td>\n",
       "      <td>0.557377</td>\n",
       "      <td>[[1, 1, 1, 0, 0, 0, 4], [0, 7, 0, 1, 0, 0, 0],...</td>\n",
       "      <td>0.508197</td>\n",
       "      <td>[[1, 1, 1, 0, 0, 0, 4], [0, 7, 0, 0, 0, 0, 1],...</td>\n",
       "      <td>0.475410</td>\n",
       "      <td>[[0, 2, 1, 0, 0, 0, 4], [0, 7, 0, 1, 0, 0, 0],...</td>\n",
       "    </tr>\n",
       "    <tr>\n",
       "      <th>14</th>\n",
       "      <td>0.623188</td>\n",
       "      <td>[[2, 3, 0, 2, 4, 0, 1], [0, 7, 0, 0, 1, 0, 0],...</td>\n",
       "      <td>0.681159</td>\n",
       "      <td>[[3, 3, 0, 2, 3, 0, 1], [0, 8, 0, 0, 0, 0, 0],...</td>\n",
       "      <td>0.710145</td>\n",
       "      <td>[[3, 2, 1, 3, 2, 0, 1], [0, 8, 0, 0, 0, 0, 0],...</td>\n",
       "      <td>0.681159</td>\n",
       "      <td>[[4, 2, 0, 2, 3, 0, 1], [0, 8, 0, 0, 0, 0, 0],...</td>\n",
       "      <td>0.710145</td>\n",
       "      <td>[[5, 1, 1, 2, 2, 0, 1], [0, 8, 0, 0, 0, 0, 0],...</td>\n",
       "    </tr>\n",
       "    <tr>\n",
       "      <th>15</th>\n",
       "      <td>0.553571</td>\n",
       "      <td>[[3, 0, 3, 0, 0, 1, 1], [2, 1, 1, 0, 0, 1, 0],...</td>\n",
       "      <td>0.607143</td>\n",
       "      <td>[[5, 0, 1, 0, 0, 1, 1], [2, 1, 1, 0, 0, 1, 0],...</td>\n",
       "      <td>0.571429</td>\n",
       "      <td>[[4, 0, 2, 0, 0, 1, 1], [2, 1, 1, 0, 0, 1, 0],...</td>\n",
       "      <td>0.607143</td>\n",
       "      <td>[[5, 0, 1, 0, 0, 1, 1], [3, 1, 1, 0, 0, 0, 0],...</td>\n",
       "      <td>0.589286</td>\n",
       "      <td>[[5, 0, 2, 0, 0, 0, 1], [2, 1, 1, 0, 0, 1, 0],...</td>\n",
       "    </tr>\n",
       "    <tr>\n",
       "      <th>16</th>\n",
       "      <td>0.563380</td>\n",
       "      <td>[[1, 0, 5, 0, 1, 0, 0], [0, 9, 0, 0, 2, 0, 0],...</td>\n",
       "      <td>0.549296</td>\n",
       "      <td>[[1, 0, 5, 0, 1, 0, 0], [0, 9, 0, 0, 2, 0, 0],...</td>\n",
       "      <td>0.591549</td>\n",
       "      <td>[[1, 0, 5, 0, 1, 0, 0], [0, 11, 0, 0, 0, 0, 0]...</td>\n",
       "      <td>0.549296</td>\n",
       "      <td>[[1, 0, 5, 0, 1, 0, 0], [0, 9, 1, 0, 1, 0, 0],...</td>\n",
       "      <td>0.591549</td>\n",
       "      <td>[[1, 0, 4, 0, 2, 0, 0], [0, 9, 0, 0, 2, 0, 0],...</td>\n",
       "    </tr>\n",
       "  </tbody>\n",
       "</table>\n",
       "</div>"
      ],
      "text/plain": [
       "         score_run_1                                           cm_run_1  \\\n",
       "speaker                                                                   \n",
       "03          0.693878  [[2, 0, 2, 0, 0, 0, 0], [1, 0, 0, 0, 0, 0, 0],...   \n",
       "08          0.357143  [[2, 2, 0, 0, 1, 0, 0], [0, 0, 0, 0, 0, 0, 0],...   \n",
       "09          0.604651  [[1, 0, 0, 0, 0, 0, 0], [0, 4, 4, 0, 0, 0, 0],...   \n",
       "10          0.684211  [[6, 1, 0, 0, 0, 0, 1], [0, 1, 0, 0, 0, 0, 0],...   \n",
       "11          0.545455  [[2, 0, 0, 0, 0, 6, 2], [0, 0, 0, 0, 0, 2, 0],...   \n",
       "12          0.600000  [[3, 0, 0, 0, 0, 2, 1], [1, 1, 0, 0, 0, 0, 0],...   \n",
       "13          0.524590  [[1, 1, 1, 0, 0, 0, 4], [0, 7, 0, 1, 0, 0, 0],...   \n",
       "14          0.623188  [[2, 3, 0, 2, 4, 0, 1], [0, 7, 0, 0, 1, 0, 0],...   \n",
       "15          0.553571  [[3, 0, 3, 0, 0, 1, 1], [2, 1, 1, 0, 0, 1, 0],...   \n",
       "16          0.563380  [[1, 0, 5, 0, 1, 0, 0], [0, 9, 0, 0, 2, 0, 0],...   \n",
       "\n",
       "         score_run_2                                           cm_run_2  \\\n",
       "speaker                                                                   \n",
       "03          0.632653  [[2, 0, 2, 0, 0, 0, 0], [1, 0, 0, 0, 0, 0, 0],...   \n",
       "08          0.392857  [[2, 2, 0, 0, 1, 0, 0], [0, 0, 0, 0, 0, 0, 0],...   \n",
       "09          0.558140  [[1, 0, 0, 0, 0, 0, 0], [0, 4, 4, 0, 0, 0, 0],...   \n",
       "10          0.605263  [[6, 1, 0, 0, 0, 0, 1], [0, 1, 0, 0, 0, 0, 0],...   \n",
       "11          0.490909  [[1, 0, 0, 2, 0, 5, 2], [0, 0, 0, 1, 0, 1, 0],...   \n",
       "12          0.600000  [[3, 0, 0, 0, 0, 2, 1], [0, 2, 0, 0, 0, 0, 0],...   \n",
       "13          0.524590  [[2, 0, 1, 0, 0, 0, 4], [0, 7, 0, 1, 0, 0, 0],...   \n",
       "14          0.681159  [[3, 3, 0, 2, 3, 0, 1], [0, 8, 0, 0, 0, 0, 0],...   \n",
       "15          0.607143  [[5, 0, 1, 0, 0, 1, 1], [2, 1, 1, 0, 0, 1, 0],...   \n",
       "16          0.549296  [[1, 0, 5, 0, 1, 0, 0], [0, 9, 0, 0, 2, 0, 0],...   \n",
       "\n",
       "         score_run_3                                           cm_run_3  \\\n",
       "speaker                                                                   \n",
       "03          0.632653  [[3, 0, 1, 0, 0, 0, 0], [0, 0, 0, 1, 0, 0, 0],...   \n",
       "08          0.375000  [[2, 1, 1, 0, 1, 0, 0], [0, 0, 0, 0, 0, 0, 0],...   \n",
       "09          0.581395  [[1, 0, 0, 0, 0, 0, 0], [0, 3, 4, 0, 1, 0, 0],...   \n",
       "10          0.578947  [[5, 1, 0, 1, 0, 0, 1], [0, 1, 0, 0, 0, 0, 0],...   \n",
       "11          0.472727  [[0, 0, 0, 2, 1, 5, 2], [0, 0, 0, 0, 0, 2, 0],...   \n",
       "12          0.657143  [[3, 0, 0, 0, 0, 2, 1], [0, 1, 0, 0, 0, 0, 1],...   \n",
       "13          0.557377  [[1, 1, 1, 0, 0, 0, 4], [0, 7, 0, 1, 0, 0, 0],...   \n",
       "14          0.710145  [[3, 2, 1, 3, 2, 0, 1], [0, 8, 0, 0, 0, 0, 0],...   \n",
       "15          0.571429  [[4, 0, 2, 0, 0, 1, 1], [2, 1, 1, 0, 0, 1, 0],...   \n",
       "16          0.591549  [[1, 0, 5, 0, 1, 0, 0], [0, 11, 0, 0, 0, 0, 0]...   \n",
       "\n",
       "         score_run_4                                           cm_run_4  \\\n",
       "speaker                                                                   \n",
       "03          0.714286  [[2, 0, 2, 0, 0, 0, 0], [0, 0, 0, 1, 0, 0, 0],...   \n",
       "08          0.357143  [[2, 2, 0, 0, 1, 0, 0], [0, 0, 0, 0, 0, 0, 0],...   \n",
       "09          0.558140  [[1, 0, 0, 0, 0, 0, 0], [0, 4, 4, 0, 0, 0, 0],...   \n",
       "10          0.631579  [[5, 1, 0, 1, 0, 0, 1], [0, 1, 0, 0, 0, 0, 0],...   \n",
       "11          0.527273  [[2, 0, 0, 0, 0, 7, 1], [0, 0, 0, 1, 0, 1, 0],...   \n",
       "12          0.657143  [[3, 0, 0, 1, 0, 1, 1], [0, 1, 1, 0, 0, 0, 0],...   \n",
       "13          0.508197  [[1, 1, 1, 0, 0, 0, 4], [0, 7, 0, 0, 0, 0, 1],...   \n",
       "14          0.681159  [[4, 2, 0, 2, 3, 0, 1], [0, 8, 0, 0, 0, 0, 0],...   \n",
       "15          0.607143  [[5, 0, 1, 0, 0, 1, 1], [3, 1, 1, 0, 0, 0, 0],...   \n",
       "16          0.549296  [[1, 0, 5, 0, 1, 0, 0], [0, 9, 1, 0, 1, 0, 0],...   \n",
       "\n",
       "         score_run_5                                           cm_run_5  \n",
       "speaker                                                                  \n",
       "03          0.653061  [[2, 0, 2, 0, 0, 0, 0], [0, 0, 0, 1, 0, 0, 0],...  \n",
       "08          0.375000  [[2, 3, 0, 0, 0, 0, 0], [0, 0, 0, 0, 0, 0, 0],...  \n",
       "09          0.604651  [[1, 0, 0, 0, 0, 0, 0], [0, 3, 4, 0, 1, 0, 0],...  \n",
       "10          0.578947  [[5, 1, 0, 0, 0, 0, 2], [0, 1, 0, 0, 0, 0, 0],...  \n",
       "11          0.563636  [[1, 0, 0, 1, 1, 7, 0], [0, 1, 0, 0, 0, 1, 0],...  \n",
       "12          0.542857  [[4, 0, 0, 0, 0, 1, 1], [0, 2, 0, 0, 0, 0, 0],...  \n",
       "13          0.475410  [[0, 2, 1, 0, 0, 0, 4], [0, 7, 0, 1, 0, 0, 0],...  \n",
       "14          0.710145  [[5, 1, 1, 2, 2, 0, 1], [0, 8, 0, 0, 0, 0, 0],...  \n",
       "15          0.589286  [[5, 0, 2, 0, 0, 0, 1], [2, 1, 1, 0, 0, 1, 0],...  \n",
       "16          0.591549  [[1, 0, 4, 0, 2, 0, 0], [0, 9, 0, 0, 2, 0, 0],...  "
      ]
     },
     "execution_count": 206,
     "metadata": {},
     "output_type": "execute_result"
    }
   ],
   "source": [
    "df_scores_3 = pd.DataFrame()\n",
    "phoneme_dict = {}\n",
    "for i in range(5):\n",
    "    scores, cms = [],[]\n",
    "    phoneme_dict['run_%i'%i] = {}\n",
    "    for speaker_id in tqdm(sorted(set(df_3.speaker_id))):\n",
    "        df_train = df_3[df_3.speaker_id != speaker_id]\n",
    "        df_test = df_3[df_3.speaker_id == speaker_id]\n",
    "        scl = StandardScaler().fit(np.squeeze(np.stack(df_train.feature_vec.tolist())))\n",
    "\n",
    "        model_dict = {}\n",
    "        phoneme_dict['run_%i'%i]['speaker_%s'%speaker_id] = {}\n",
    "        for phoneme in common_phonemes:\n",
    "            model = MultiLayerPerceptron([61,96,32,7])\n",
    "\n",
    "            tmp_train = df_train[df_train.phoneme == phoneme]\n",
    "            X_train = np.squeeze(np.stack(tmp_train.feature_vec.tolist()))\n",
    "            y_train = one_hot_encode(tmp_train.emotion_label.tolist(),7)\n",
    "            tmp = df_test[df_test.phoneme == phoneme]\n",
    "            X_test = np.squeeze(np.stack(tmp.feature_vec.tolist()))\n",
    "            y_test = tmp.emotion_label.tolist()\n",
    "\n",
    "            X_train = scl.transform(X_train)\n",
    "            X_test = scl.transform(X_test)\n",
    "\n",
    "            model.fit(X_train,y_train,epochs=200,val_data=(X_test,one_hot_encode(y_test,7)),class_weight=get_class_weights(tmp_train.emotion_label))\n",
    "            model_dict[phoneme] = model\n",
    "            \n",
    "            # evaluate only this phoneme\n",
    "            ph_pred = [model_dict[row.phoneme].predict_proba(scl.transform(row.feature_vec.reshape(1,-1))) \n",
    "                       for _,row in tmp.iterrows()]\n",
    "            score,predictions,labels = aggregate_score(ph_pred,\n",
    "                                                   tmp.ID.tolist(),\n",
    "                                                   dh)\n",
    "            phoneme_dict['run_%i'%i]['speaker_%s'%speaker_id][phoneme] = score\n",
    "\n",
    "        predictions = [model_dict[row.phoneme].predict_proba(scl.transform(row.feature_vec.reshape(1,-1))) \n",
    "                       for _,row in df_test.iterrows()]\n",
    "\n",
    "        score,predictions,labels = aggregate_score(predictions,\n",
    "                                                   df_test.ID.tolist(),\n",
    "                                                   dh)\n",
    "\n",
    "        scores.append(score)\n",
    "        cms.append(confusion_matrix(labels,predictions))\n",
    "        keras.backend.clear_session()\n",
    "    df_scores_3['score_run_%i'%(i+1)] = scores\n",
    "    df_scores_3['cm_run_%i'%(i+1)] = cms\n",
    "    df_scores_3['speaker'] = sorted(set(df_3.speaker_id))\n",
    "\n",
    "df_scores_3 = df_scores_3.set_index('speaker')\n",
    "df_scores_3"
   ]
  },
  {
   "cell_type": "code",
   "execution_count": 213,
   "metadata": {},
   "outputs": [],
   "source": [
    "df_scores_1[['score_run_%i'%(i+1) for i in range(5)]].to_csv('results/scores_1.csv')\n",
    "df_scores_2[['score_run_%i'%(i+1) for i in range(5)]].to_csv('results/scores_2.csv')\n",
    "df_scores_3[['score_run_%i'%(i+1) for i in range(5)]].to_csv('results/scores_3.csv')"
   ]
  },
  {
   "cell_type": "code",
   "execution_count": 214,
   "metadata": {},
   "outputs": [],
   "source": [
    "import pickle\n",
    "with open('results/cms_1.pkl','wb') as f:\n",
    "    pickle.dump(df_scores_1[['cm_run_%i'%(i+1) for i in range(5)]].to_dict(),f)\n",
    "with open('results/cms_2.pkl','wb') as f:\n",
    "    pickle.dump(df_scores_2[['cm_run_%i'%(i+1) for i in range(5)]].to_dict(),f)\n",
    "with open('results/cms_3.pkl','wb') as f:\n",
    "    pickle.dump(df_scores_3[['cm_run_%i'%(i+1) for i in range(5)]].to_dict(),f)"
   ]
  },
  {
   "cell_type": "markdown",
   "metadata": {},
   "source": [
    "## Performance by phoneme"
   ]
  },
  {
   "cell_type": "code",
   "execution_count": 215,
   "metadata": {},
   "outputs": [],
   "source": [
    "df = pd.DataFrame()\n",
    "for i,k in enumerate(phoneme_dict):\n",
    "    df = pd.concat([df,pd.DataFrame(phoneme_dict[k]).T])\n",
    "df = df.reset_index()"
   ]
  },
  {
   "cell_type": "code",
   "execution_count": 216,
   "metadata": {},
   "outputs": [
    {
     "data": {
      "text/plain": [
       "<matplotlib.axes._subplots.AxesSubplot at 0x153a202b0>"
      ]
     },
     "execution_count": 216,
     "metadata": {},
     "output_type": "execute_result"
    },
    {
     "data": {
      "image/png": "[encoded data removed]",
      "text/plain": [
       "<Figure size 3200x1200 with 1 Axes>"
      ]
     },
     "metadata": {
      "needs_background": "light"
     },
     "output_type": "display_data"
    }
   ],
   "source": [
    "sns.set_context('talk')\n",
    "plt.figure(figsize=(16,6),dpi=200)\n",
    "sns.boxplot(x='Phoneme',y='Accuracy',whis=2,data=pd.melt(df,id_vars='index',var_name='Phoneme',value_name='Accuracy'))"
   ]
  },
  {
   "cell_type": "code",
   "execution_count": null,
   "metadata": {},
   "outputs": [],
   "source": []
  }
 ],
 "metadata": {
  "kernelspec": {
   "display_name": "Python 3",
   "language": "python",
   "name": "python3"
  },
  "language_info": {
   "codemirror_mode": {
    "name": "ipython",
    "version": 3
   },
   "file_extension": ".py",
   "mimetype": "text/x-python",
   "name": "python",
   "nbconvert_exporter": "python",
   "pygments_lexer": "ipython3",
   "version": "3.7.0"
  }
 },
 "nbformat": 4,
 "nbformat_minor": 2
}
