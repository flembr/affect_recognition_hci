{
 "cells": [
  {
   "cell_type": "code",
   "execution_count": 88,
   "metadata": {},
   "outputs": [],
   "source": [
    "import numpy as np\n",
    "import pandas as pd\n",
    "\n",
    "from tqdm import tqdm\n",
    "\n",
    "import matplotlib.pyplot as plt\n",
    "import seaborn as sns\n",
    "sns.set()\n",
    "%matplotlib inline\n",
    "\n",
    "from sklearn.model_selection import train_test_split"
   ]
  },
  {
   "cell_type": "code",
   "execution_count": 201,
   "metadata": {},
   "outputs": [
    {
     "name": "stderr",
     "output_type": "stream",
     "text": [
      "100%|██████████| 38250/38250 [00:00<00:00, 136592.85it/s]\n"
     ]
    },
    {
     "data": {
      "text/html": [
       "<div>\n",
       "<style scoped>\n",
       "    .dataframe tbody tr th:only-of-type {\n",
       "        vertical-align: middle;\n",
       "    }\n",
       "\n",
       "    .dataframe tbody tr th {\n",
       "        vertical-align: top;\n",
       "    }\n",
       "\n",
       "    .dataframe thead th {\n",
       "        text-align: right;\n",
       "    }\n",
       "</style>\n",
       "<table border=\"1\" class=\"dataframe\">\n",
       "  <thead>\n",
       "    <tr style=\"text-align: right;\">\n",
       "      <th></th>\n",
       "      <th></th>\n",
       "      <th>ID</th>\n",
       "      <th>laut</th>\n",
       "      <th>mean_mfcc</th>\n",
       "      <th>modifier</th>\n",
       "      <th>n</th>\n",
       "      <th>onset_time</th>\n",
       "      <th>sex</th>\n",
       "      <th>age</th>\n",
       "      <th>emotion</th>\n",
       "    </tr>\n",
       "  </thead>\n",
       "  <tbody>\n",
       "    <tr>\n",
       "      <th>0</th>\n",
       "      <td></td>\n",
       "      <td>03a01Fa</td>\n",
       "      <td>_t</td>\n",
       "      <td>[0.05263285119265404, 0.010375182703338105, 0....</td>\n",
       "      <td></td>\n",
       "      <td>-1</td>\n",
       "      <td>0.080109</td>\n",
       "      <td>m</td>\n",
       "      <td>31</td>\n",
       "      <td>happiness</td>\n",
       "    </tr>\n",
       "    <tr>\n",
       "      <th>1</th>\n",
       "      <td></td>\n",
       "      <td>03a01Fa</td>\n",
       "      <td>!t</td>\n",
       "      <td>[5.598891074314904, 2.268574148781579, 2.55553...</td>\n",
       "      <td></td>\n",
       "      <td>-1</td>\n",
       "      <td>0.119160</td>\n",
       "      <td>m</td>\n",
       "      <td>31</td>\n",
       "      <td>happiness</td>\n",
       "    </tr>\n",
       "    <tr>\n",
       "      <th>2</th>\n",
       "      <td></td>\n",
       "      <td>03a01Fa</td>\n",
       "      <td>asp</td>\n",
       "      <td>[5.598891074314904, 2.268574148781579, 2.55553...</td>\n",
       "      <td>+</td>\n",
       "      <td>-1</td>\n",
       "      <td>0.119160</td>\n",
       "      <td>m</td>\n",
       "      <td>31</td>\n",
       "      <td>happiness</td>\n",
       "    </tr>\n",
       "    <tr>\n",
       "      <th>3</th>\n",
       "      <td></td>\n",
       "      <td>03a01Fa</td>\n",
       "      <td>E6</td>\n",
       "      <td>[0.4368618855937899, 0.3983100632254428, 0.923...</td>\n",
       "      <td></td>\n",
       "      <td>-1</td>\n",
       "      <td>0.144370</td>\n",
       "      <td>m</td>\n",
       "      <td>31</td>\n",
       "      <td>happiness</td>\n",
       "    </tr>\n",
       "    <tr>\n",
       "      <th>4</th>\n",
       "      <td></td>\n",
       "      <td>03a01Fa</td>\n",
       "      <td>l</td>\n",
       "      <td>[0.8800663433221668, 0.7052182871586671, 1.008...</td>\n",
       "      <td></td>\n",
       "      <td>-1</td>\n",
       "      <td>0.244223</td>\n",
       "      <td>m</td>\n",
       "      <td>31</td>\n",
       "      <td>happiness</td>\n",
       "    </tr>\n",
       "  </tbody>\n",
       "</table>\n",
       "</div>"
      ],
      "text/plain": [
       "          ID laut                                          mean_mfcc modifier  \\\n",
       "0    03a01Fa   _t  [0.05263285119265404, 0.010375182703338105, 0....            \n",
       "1    03a01Fa   !t  [5.598891074314904, 2.268574148781579, 2.55553...            \n",
       "2    03a01Fa  asp  [5.598891074314904, 2.268574148781579, 2.55553...        +   \n",
       "3    03a01Fa   E6  [0.4368618855937899, 0.3983100632254428, 0.923...            \n",
       "4    03a01Fa    l  [0.8800663433221668, 0.7052182871586671, 1.008...            \n",
       "\n",
       "    n onset_time sex  age    emotion  \n",
       "0  -1   0.080109   m   31  happiness  \n",
       "1  -1   0.119160   m   31  happiness  \n",
       "2  -1   0.119160   m   31  happiness  \n",
       "3  -1   0.144370   m   31  happiness  \n",
       "4  -1   0.244223   m   31  happiness  "
      ]
     },
     "execution_count": 201,
     "metadata": {},
     "output_type": "execute_result"
    }
   ],
   "source": [
    "df = pd.read_msgpack('data_mel.msgpack')\n",
    "\n",
    "# df = df[df.laut.isin(['a','s','!t','!k','e','sth'])]\n",
    "\n",
    "X = np.zeros([len(df),128])\n",
    "for i in tqdm(range(len(df))):\n",
    "    X[i,:] = df.mean_mfcc.values[i]\n",
    "# X = ((X.T-np.mean(X,axis=1)) / np.std(X,axis=1)).T\n",
    "df.head()"
   ]
  },
  {
   "cell_type": "code",
   "execution_count": 196,
   "metadata": {},
   "outputs": [
    {
     "name": "stdout",
     "output_type": "stream",
     "text": [
      "[0.24147931 0.14965342 0.11518281 0.06826149 0.06077537 0.05417899\n",
      " 0.04409645 0.03681187 0.03192379 0.02631214]\n"
     ]
    }
   ],
   "source": [
    "from sklearn.decomposition import PCA\n",
    "\n",
    "pca = PCA(n_components=10)\n",
    "pca.fit(X)\n",
    "print(pca.explained_variance_ratio_)\n",
    "comp = pca.transform(X)"
   ]
  },
  {
   "cell_type": "code",
   "execution_count": 197,
   "metadata": {},
   "outputs": [
    {
     "data": {
      "text/plain": [
       "<matplotlib.collections.PathCollection at 0x130c3e2b0>"
      ]
     },
     "execution_count": 197,
     "metadata": {},
     "output_type": "execute_result"
    },
    {
     "data": {
      "image/png": "[encoded data removed]",
      "text/plain": [
       "<Figure size 432x288 with 1 Axes>"
      ]
     },
     "metadata": {
      "needs_background": "light"
     },
     "output_type": "display_data"
    }
   ],
   "source": [
    "plt.scatter(comp[df.emotion == 'happiness',0],comp[df.emotion == 'happiness',1])\n",
    "plt.scatter(comp[df.emotion == 'sadness',0],comp[df.emotion == 'sadness',1])\n",
    "plt.scatter(comp[df.emotion == 'neutral',0],comp[df.emotion == 'neutral',1])"
   ]
  },
  {
   "cell_type": "code",
   "execution_count": 198,
   "metadata": {},
   "outputs": [
    {
     "name": "stdout",
     "output_type": "stream",
     "text": [
      "['_t' '!t' 'asp' ... 'N' 'sil' '.']\n"
     ]
    },
    {
     "ename": "KeyError",
     "evalue": "'_t'",
     "output_type": "error",
     "traceback": [
      "\u001b[0;31m---------------------------------------------------------------------------\u001b[0m",
      "\u001b[0;31mKeyError\u001b[0m                                  Traceback (most recent call last)",
      "\u001b[0;32m<ipython-input-198-9af48d2a5da1>\u001b[0m in \u001b[0;36m<module>\u001b[0;34m()\u001b[0m\n\u001b[1;32m      5\u001b[0m \u001b[0;32mfor\u001b[0m \u001b[0mi\u001b[0m \u001b[0;32min\u001b[0m \u001b[0mrange\u001b[0m\u001b[0;34m(\u001b[0m\u001b[0mlen\u001b[0m\u001b[0;34m(\u001b[0m\u001b[0mcomp\u001b[0m\u001b[0;34m)\u001b[0m\u001b[0;34m)\u001b[0m\u001b[0;34m:\u001b[0m\u001b[0;34m\u001b[0m\u001b[0m\n\u001b[1;32m      6\u001b[0m     \u001b[0mfeatures\u001b[0m\u001b[0;34m[\u001b[0m\u001b[0mi\u001b[0m\u001b[0;34m,\u001b[0m\u001b[0;34m:\u001b[0m\u001b[0mcomp\u001b[0m\u001b[0;34m.\u001b[0m\u001b[0mshape\u001b[0m\u001b[0;34m[\u001b[0m\u001b[0;36m1\u001b[0m\u001b[0;34m]\u001b[0m\u001b[0;34m]\u001b[0m \u001b[0;34m=\u001b[0m \u001b[0mcomp\u001b[0m\u001b[0;34m[\u001b[0m\u001b[0mi\u001b[0m\u001b[0;34m,\u001b[0m\u001b[0;34m:\u001b[0m\u001b[0;34m]\u001b[0m\u001b[0;34m\u001b[0m\u001b[0m\n\u001b[0;32m----> 7\u001b[0;31m     \u001b[0mfeatures\u001b[0m\u001b[0;34m[\u001b[0m\u001b[0mi\u001b[0m\u001b[0;34m,\u001b[0m\u001b[0;36m5\u001b[0m\u001b[0;34m:\u001b[0m\u001b[0;36m11\u001b[0m\u001b[0;34m]\u001b[0m \u001b[0;34m=\u001b[0m \u001b[0mphoneme_map\u001b[0m\u001b[0;34m[\u001b[0m\u001b[0mphonemes\u001b[0m\u001b[0;34m[\u001b[0m\u001b[0mi\u001b[0m\u001b[0;34m]\u001b[0m\u001b[0;34m]\u001b[0m\u001b[0;34m\u001b[0m\u001b[0m\n\u001b[0m\u001b[1;32m      8\u001b[0m \u001b[0mprint\u001b[0m\u001b[0;34m(\u001b[0m\u001b[0mfeatures\u001b[0m\u001b[0;34m)\u001b[0m\u001b[0;34m\u001b[0m\u001b[0m\n",
      "\u001b[0;31mKeyError\u001b[0m: '_t'"
     ]
    }
   ],
   "source": [
    "features = np.zeros([len(comp),11])\n",
    "phonemes = df.laut.values\n",
    "print(phonemes)\n",
    "phoneme_map = {p: np.eye(6)[i] for i,p in enumerate(['a','s','sth','e','!t','!k'])}\n",
    "for i in range(len(comp)):\n",
    "    features[i,:comp.shape[1]] = comp[i,:]\n",
    "    features[i,5:11] = phoneme_map[phonemes[i]]\n",
    "print(features)"
   ]
  },
  {
   "cell_type": "code",
   "execution_count": 211,
   "metadata": {},
   "outputs": [
    {
     "data": {
      "text/plain": [
       "0.24143790849673202"
      ]
     },
     "execution_count": 211,
     "metadata": {},
     "output_type": "execute_result"
    }
   ],
   "source": [
    "from sklearn.linear_model import LogisticRegression\n",
    "from sklearn.naive_bayes import MultinomialNB\n",
    "\n",
    "X_train, X_test, y_train, y_test = train_test_split(X, df.emotion, test_size=0.20)\n",
    "\n",
    "logreg = MultinomialNB(fit_prior=False)\n",
    "logreg.fit(X_train,y_train)\n",
    "logreg.score(X_test,y_test)"
   ]
  },
  {
   "cell_type": "code",
   "execution_count": null,
   "metadata": {},
   "outputs": [],
   "source": []
  }
 ],
 "metadata": {
  "kernelspec": {
   "display_name": "Python 3",
   "language": "python",
   "name": "python3"
  },
  "language_info": {
   "codemirror_mode": {
    "name": "ipython",
    "version": 3
   },
   "file_extension": ".py",
   "mimetype": "text/x-python",
   "name": "python",
   "nbconvert_exporter": "python",
   "pygments_lexer": "ipython3",
   "version": "3.7.0"
  }
 },
 "nbformat": 4,
 "nbformat_minor": 2
}
